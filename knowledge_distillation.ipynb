{
 "cells": [
  {
   "cell_type": "code",
   "execution_count": 1,
   "id": "d90c67ae",
   "metadata": {},
   "outputs": [
    {
     "name": "stderr",
     "output_type": "stream",
     "text": [
      "c:\\Users\\Public\\anaconda3\\envs\\YOUCEF_OUADJER_ENV\\Lib\\site-packages\\tqdm\\auto.py:21: TqdmWarning: IProgress not found. Please update jupyter and ipywidgets. See https://ipywidgets.readthedocs.io/en/stable/user_install.html\n",
      "  from .autonotebook import tqdm as notebook_tqdm\n"
     ]
    }
   ],
   "source": [
    "import os\n",
    "import torch\n",
    "import torch.nn as nn\n",
    "import pandas as pd\n",
    "import torch.nn.functional as F\n",
    "from tqdm import tqdm\n",
    "from torch.utils.data import DataLoader, Dataset\n",
    "from torchvision import transforms\n",
    "from torchvision.datasets import CelebA\n",
    "from PIL import Image\n",
    "from sklearn.metrics import accuracy_score\n",
    "from facenet_pytorch import InceptionResnetV1\n",
    "from kd_framework import dataset, kd_models, mobilefacenet, utils"
   ]
  },
  {
   "cell_type": "code",
   "execution_count": 2,
   "id": "74b047ac",
   "metadata": {},
   "outputs": [
    {
     "name": "stdout",
     "output_type": "stream",
     "text": [
      "e:\\youcef ouadjer\n"
     ]
    }
   ],
   "source": [
    "print(os.getcwd())"
   ]
  },
  {
   "cell_type": "code",
   "execution_count": 3,
   "id": "c19a4a00",
   "metadata": {},
   "outputs": [],
   "source": [
    "os.environ[\"CUDA_LAUNCH_BLOCKING\"] = \"1\""
   ]
  },
  {
   "cell_type": "code",
   "execution_count": 4,
   "id": "1cffd532",
   "metadata": {},
   "outputs": [
    {
     "name": "stdout",
     "output_type": "stream",
     "text": [
      "[train] → 8192 unique identities\n",
      "[valid] → 985 unique identities\n",
      "[test] → 1000 unique identities\n"
     ]
    }
   ],
   "source": [
    "\n",
    "# Charger le fichier identity et le fichier de split\n",
    "identity_df = pd.read_csv('celeba/identity_CelebA.txt', sep=' ', header=None, names=['filename', 'identity'])\n",
    "partition_df = pd.read_csv('celeba/list_eval_partition.txt', sep=' ', header=None, names=['filename', 'split'])\n",
    "\n",
    "# Fusionner pour avoir split + identity\n",
    "full_df = pd.merge(identity_df, partition_df, on='filename')\n",
    "\n",
    "# Mapping pour chaque split\n",
    "split_names = {0: 'train', 1: 'valid', 2: 'test'}\n",
    "split_mappings = {}\n",
    "\n",
    "for split_id, split_name in split_names.items():\n",
    "    split_subset = full_df[full_df['split'] == split_id]\n",
    "    unique_ids = sorted(split_subset['identity'].unique())\n",
    "    id2label = {int(identity): i for i, identity in enumerate(unique_ids)}\n",
    "    split_mappings[split_name] = id2label\n",
    "    print(f\"[{split_name}] → {len(id2label)} unique identities\")\n",
    "\n",
    "# Exemple d'utilisation pour `val_dataset`\n",
    "val_id2label = split_mappings['valid']\n"
   ]
  },
  {
   "cell_type": "code",
   "execution_count": 5,
   "id": "df1c389d",
   "metadata": {},
   "outputs": [],
   "source": [
    "unique_ids = sorted(full_df['identity'].unique())\n",
    "id2label_global = {int(identity): i for i, identity in enumerate(unique_ids)}"
   ]
  },
  {
   "cell_type": "code",
   "execution_count": 6,
   "id": "d0a4f42b",
   "metadata": {},
   "outputs": [
    {
     "data": {
      "text/plain": [
       "10177"
      ]
     },
     "execution_count": 6,
     "metadata": {},
     "output_type": "execute_result"
    }
   ],
   "source": [
    "len(id2label_global)"
   ]
  },
  {
   "cell_type": "code",
   "execution_count": 7,
   "id": "723dec6d",
   "metadata": {},
   "outputs": [],
   "source": [
    "# Dataset \n",
    "\n",
    "transform_teacher = transforms.Compose([\n",
    "    transforms.Resize((160, 160)),\n",
    "    transforms.ToTensor(),\n",
    "    transforms.Normalize([0.5], [0.5])\n",
    "])\n",
    "\n",
    "transform_student = transforms.Compose([\n",
    "    transforms.Resize((112, 112)),\n",
    "    transforms.ToTensor(),\n",
    "    transforms.Normalize([0.5], [0.5])\n",
    "])\n",
    "\n",
    "# Mapping global\n",
    "#id2label = {int(identity): idx for idx, identity in enumerate(unique_ids)}\n",
    "\n",
    "# Créer les datasets avec le même mapping\n",
    "\n",
    "# train_dataset = dataset.celebATransformDataset('train', transform_teacher, transform_student, id2label=split_mappings['train'])\n",
    "# val_dataset   = dataset.celebATransformDataset('valid', transform_teacher, transform_student, id2label=split_mappings['valid'])\n",
    "# test_dataset  = dataset.celebATransformDataset('test',  transform_teacher, transform_student, id2label=split_mappings['test'])\n",
    "\n",
    "train_dataset = dataset.celebATransformDataset('train', transform_teacher, transform_student, id2label=id2label_global)\n",
    "val_dataset   = dataset.celebATransformDataset('valid', transform_teacher, transform_student, id2label=id2label_global)\n",
    "test_dataset  = dataset.celebATransformDataset('test',  transform_teacher, transform_student, id2label=id2label_global)\n",
    "\n",
    "\n",
    "train_loader = DataLoader(train_dataset, batch_size=512, shuffle=True, num_workers=4)\n",
    "val_loader = DataLoader(val_dataset, batch_size=512, shuffle=False, num_workers=4)\n",
    "test_loader = DataLoader(test_dataset, batch_size=512, shuffle=False, num_workers=4)"
   ]
  },
  {
   "cell_type": "code",
   "execution_count": 8,
   "id": "985bb42c",
   "metadata": {},
   "outputs": [
    {
     "name": "stdout",
     "output_type": "stream",
     "text": [
      "torch.Size([512, 3, 160, 160])\n",
      "torch.Size([512, 3, 112, 112])\n",
      "torch.Size([512])\n"
     ]
    }
   ],
   "source": [
    "for img_teacher, img_student, label in train_loader:\n",
    "    print(img_teacher.size())\n",
    "    print(img_student.size())\n",
    "    print(label.size())\n",
    "    break"
   ]
  },
  {
   "cell_type": "code",
   "execution_count": 9,
   "id": "e0b18ff5",
   "metadata": {},
   "outputs": [],
   "source": [
    "device = torch.device(\"cuda\" if torch.cuda.is_available() else \"cpu\")"
   ]
  },
  {
   "cell_type": "code",
   "execution_count": 10,
   "id": "b12b5783",
   "metadata": {},
   "outputs": [],
   "source": [
    "# Models\n",
    "# Teacher model: FaceNet (InceptionResNet)\n",
    "#num_train_classes = len(split_mappings['train'])\n",
    "\n",
    "num_train_classes = len(id2label_global)\n",
    "resnet_model = InceptionResnetV1(pretrained='vggface2').eval()\n",
    "teacher_model = kd_models.TeacherNet(resnet_model, num_classes=num_train_classes).to(device)"
   ]
  },
  {
   "cell_type": "code",
   "execution_count": 11,
   "id": "a6c2861a",
   "metadata": {},
   "outputs": [],
   "source": [
    "# Student model: MobileFaceNet\n",
    "#num_val_classes = len(split_mappings['valid'])\n",
    "\n",
    "num_val_classes = len(id2label_global)\n",
    "\n",
    "mobile_model = mobilefacenet.MobileFaceNet(embedding_size=512).to(device)\n",
    "student_model = kd_models.StudentNet(mobile_model, num_classes=num_val_classes).to(device)"
   ]
  },
  {
   "cell_type": "code",
   "execution_count": 12,
   "id": "4d2a7b8d",
   "metadata": {},
   "outputs": [],
   "source": [
    "x_teacher  = torch.randn(32, 3, 160, 160).to(device)\n",
    "x_student = torch.randn(32, 3, 112, 112).to(device)"
   ]
  },
  {
   "cell_type": "code",
   "execution_count": 13,
   "id": "cd5b72b9",
   "metadata": {},
   "outputs": [],
   "source": [
    "t_logits, t_feats = teacher_model(x_teacher)\n",
    "s_logits, s_feats, embeddings = student_model(x_student)"
   ]
  },
  {
   "cell_type": "code",
   "execution_count": 14,
   "id": "75ea4813",
   "metadata": {},
   "outputs": [
    {
     "name": "stdout",
     "output_type": "stream",
     "text": [
      "torch.Size([32, 10177])\n",
      "torch.Size([32, 10177])\n",
      "torch.Size([32, 512])\n"
     ]
    }
   ],
   "source": [
    "print(t_logits.shape)\n",
    "# print(t_feats.shape)\n",
    "\n",
    "print(s_logits.shape)\n",
    "# print(s_feats.shape)\n",
    "print(embeddings.shape)"
   ]
  },
  {
   "cell_type": "code",
   "execution_count": 15,
   "id": "05c21984",
   "metadata": {},
   "outputs": [
    {
     "name": "stderr",
     "output_type": "stream",
     "text": [
      "  0%|          | 0/500 [00:00<?, ?it/s]"
     ]
    },
    {
     "name": "stdout",
     "output_type": "stream",
     "text": [
      "Epoch 1: Train Loss=263.6340, Train Acc=1.28%\n"
     ]
    },
    {
     "name": "stderr",
     "output_type": "stream",
     "text": [
      "  0%|          | 1/500 [03:27<28:48:43, 207.86s/it]"
     ]
    },
    {
     "name": "stdout",
     "output_type": "stream",
     "text": [
      "Val Loss=9.7903, Val Acc=0.00%\n",
      "\n",
      "Epoch 2: Train Loss=3.8303, Train Acc=10.79%\n"
     ]
    },
    {
     "name": "stderr",
     "output_type": "stream",
     "text": [
      "  0%|          | 2/500 [06:55<28:42:26, 207.52s/it]"
     ]
    },
    {
     "name": "stdout",
     "output_type": "stream",
     "text": [
      "Val Loss=9.9419, Val Acc=0.00%\n",
      "\n",
      "Epoch 3: Train Loss=2.7101, Train Acc=26.14%\n"
     ]
    },
    {
     "name": "stderr",
     "output_type": "stream",
     "text": [
      "  1%|          | 3/500 [10:22<28:39:11, 207.55s/it]"
     ]
    },
    {
     "name": "stdout",
     "output_type": "stream",
     "text": [
      "Val Loss=10.0635, Val Acc=0.00%\n",
      "\n",
      "Epoch 4: Train Loss=2.2096, Train Acc=41.92%\n"
     ]
    },
    {
     "name": "stderr",
     "output_type": "stream",
     "text": [
      "  1%|          | 4/500 [13:50<28:35:19, 207.50s/it]"
     ]
    },
    {
     "name": "stdout",
     "output_type": "stream",
     "text": [
      "Val Loss=10.1640, Val Acc=0.00%\n",
      "\n",
      "Epoch 5: Train Loss=1.9010, Train Acc=55.59%\n"
     ]
    },
    {
     "name": "stderr",
     "output_type": "stream",
     "text": [
      "  1%|          | 5/500 [17:17<28:31:27, 207.45s/it]"
     ]
    },
    {
     "name": "stdout",
     "output_type": "stream",
     "text": [
      "Val Loss=10.2298, Val Acc=0.00%\n",
      "\n",
      "Epoch 6: Train Loss=1.6862, Train Acc=66.74%\n"
     ]
    },
    {
     "name": "stderr",
     "output_type": "stream",
     "text": [
      "  1%|          | 6/500 [20:44<28:28:05, 207.46s/it]"
     ]
    },
    {
     "name": "stdout",
     "output_type": "stream",
     "text": [
      "Val Loss=10.2445, Val Acc=0.00%\n",
      "\n",
      "Epoch 7: Train Loss=1.5279, Train Acc=75.44%\n"
     ]
    },
    {
     "name": "stderr",
     "output_type": "stream",
     "text": [
      "  1%|▏         | 7/500 [24:12<28:25:26, 207.56s/it]"
     ]
    },
    {
     "name": "stdout",
     "output_type": "stream",
     "text": [
      "Val Loss=10.2821, Val Acc=0.00%\n",
      "\n",
      "Epoch 8: Train Loss=1.4082, Train Acc=81.96%\n"
     ]
    },
    {
     "name": "stderr",
     "output_type": "stream",
     "text": [
      "  2%|▏         | 8/500 [27:40<28:22:18, 207.60s/it]"
     ]
    },
    {
     "name": "stdout",
     "output_type": "stream",
     "text": [
      "Val Loss=10.2864, Val Acc=0.00%\n",
      "\n",
      "Epoch 9: Train Loss=1.3173, Train Acc=86.42%\n"
     ]
    },
    {
     "name": "stderr",
     "output_type": "stream",
     "text": [
      "  2%|▏         | 9/500 [31:07<28:17:47, 207.47s/it]"
     ]
    },
    {
     "name": "stdout",
     "output_type": "stream",
     "text": [
      "Val Loss=10.3026, Val Acc=0.00%\n",
      "\n",
      "Epoch 10: Train Loss=1.2446, Train Acc=89.94%\n"
     ]
    },
    {
     "name": "stderr",
     "output_type": "stream",
     "text": [
      "  2%|▏         | 10/500 [34:35<28:14:13, 207.46s/it]"
     ]
    },
    {
     "name": "stdout",
     "output_type": "stream",
     "text": [
      "Val Loss=10.2872, Val Acc=0.00%\n",
      "\n",
      "Epoch 11: Train Loss=1.1875, Train Acc=92.35%\n"
     ]
    },
    {
     "name": "stderr",
     "output_type": "stream",
     "text": [
      "  2%|▏         | 11/500 [38:02<28:10:18, 207.40s/it]"
     ]
    },
    {
     "name": "stdout",
     "output_type": "stream",
     "text": [
      "Val Loss=10.2964, Val Acc=0.00%\n",
      "\n",
      "Epoch 12: Train Loss=1.1412, Train Acc=94.03%\n"
     ]
    },
    {
     "name": "stderr",
     "output_type": "stream",
     "text": [
      "  2%|▏         | 12/500 [41:29<28:06:34, 207.37s/it]"
     ]
    },
    {
     "name": "stdout",
     "output_type": "stream",
     "text": [
      "Val Loss=10.2992, Val Acc=0.00%\n",
      "\n",
      "Epoch 13: Train Loss=1.1016, Train Acc=95.28%\n"
     ]
    },
    {
     "name": "stderr",
     "output_type": "stream",
     "text": [
      "  3%|▎         | 13/500 [44:56<28:03:03, 207.36s/it]"
     ]
    },
    {
     "name": "stdout",
     "output_type": "stream",
     "text": [
      "Val Loss=10.2845, Val Acc=0.00%\n",
      "\n",
      "Epoch 14: Train Loss=1.0695, Train Acc=96.23%\n"
     ]
    },
    {
     "name": "stderr",
     "output_type": "stream",
     "text": [
      "  3%|▎         | 14/500 [48:24<27:59:02, 207.29s/it]"
     ]
    },
    {
     "name": "stdout",
     "output_type": "stream",
     "text": [
      "Val Loss=10.3000, Val Acc=0.00%\n",
      "\n",
      "Epoch 15: Train Loss=1.0408, Train Acc=96.92%\n"
     ]
    },
    {
     "name": "stderr",
     "output_type": "stream",
     "text": [
      "  3%|▎         | 15/500 [51:51<27:55:45, 207.31s/it]"
     ]
    },
    {
     "name": "stdout",
     "output_type": "stream",
     "text": [
      "Val Loss=10.2680, Val Acc=0.00%\n",
      "\n",
      "Epoch 16: Train Loss=1.0179, Train Acc=97.36%\n"
     ]
    },
    {
     "name": "stderr",
     "output_type": "stream",
     "text": [
      "  3%|▎         | 16/500 [55:18<27:52:22, 207.32s/it]"
     ]
    },
    {
     "name": "stdout",
     "output_type": "stream",
     "text": [
      "Val Loss=10.2780, Val Acc=0.00%\n",
      "\n",
      "Epoch 17: Train Loss=0.9985, Train Acc=97.60%\n"
     ]
    },
    {
     "name": "stderr",
     "output_type": "stream",
     "text": [
      "  3%|▎         | 17/500 [58:45<27:48:30, 207.27s/it]"
     ]
    },
    {
     "name": "stdout",
     "output_type": "stream",
     "text": [
      "Val Loss=10.2609, Val Acc=0.00%\n",
      "\n",
      "Epoch 18: Train Loss=0.9789, Train Acc=98.02%\n"
     ]
    },
    {
     "name": "stderr",
     "output_type": "stream",
     "text": [
      "  4%|▎         | 18/500 [1:02:13<27:44:50, 207.24s/it]"
     ]
    },
    {
     "name": "stdout",
     "output_type": "stream",
     "text": [
      "Val Loss=10.2556, Val Acc=0.00%\n",
      "\n",
      "Epoch 19: Train Loss=0.9625, Train Acc=98.28%\n"
     ]
    },
    {
     "name": "stderr",
     "output_type": "stream",
     "text": [
      "  4%|▍         | 19/500 [1:05:40<27:42:08, 207.34s/it]"
     ]
    },
    {
     "name": "stdout",
     "output_type": "stream",
     "text": [
      "Val Loss=10.2492, Val Acc=0.00%\n",
      "\n",
      "Epoch 20: Train Loss=0.9469, Train Acc=98.47%\n"
     ]
    },
    {
     "name": "stderr",
     "output_type": "stream",
     "text": [
      "  4%|▍         | 20/500 [1:09:07<27:38:06, 207.26s/it]"
     ]
    },
    {
     "name": "stdout",
     "output_type": "stream",
     "text": [
      "Val Loss=10.2540, Val Acc=0.00%\n",
      "\n",
      "Epoch 21: Train Loss=0.9335, Train Acc=98.58%\n"
     ]
    },
    {
     "name": "stderr",
     "output_type": "stream",
     "text": [
      "  4%|▍         | 21/500 [1:12:34<27:34:27, 207.24s/it]"
     ]
    },
    {
     "name": "stdout",
     "output_type": "stream",
     "text": [
      "Val Loss=10.2484, Val Acc=0.00%\n",
      "\n",
      "Epoch 22: Train Loss=0.9193, Train Acc=98.73%\n"
     ]
    },
    {
     "name": "stderr",
     "output_type": "stream",
     "text": [
      "  4%|▍         | 22/500 [1:16:01<27:30:32, 207.18s/it]"
     ]
    },
    {
     "name": "stdout",
     "output_type": "stream",
     "text": [
      "Val Loss=10.2374, Val Acc=0.00%\n",
      "\n",
      "Epoch 23: Train Loss=0.9076, Train Acc=98.82%\n"
     ]
    },
    {
     "name": "stderr",
     "output_type": "stream",
     "text": [
      "  5%|▍         | 23/500 [1:19:29<27:27:04, 207.18s/it]"
     ]
    },
    {
     "name": "stdout",
     "output_type": "stream",
     "text": [
      "Val Loss=10.2475, Val Acc=0.00%\n",
      "\n",
      "Epoch 24: Train Loss=0.8976, Train Acc=98.87%\n"
     ]
    },
    {
     "name": "stderr",
     "output_type": "stream",
     "text": [
      "  5%|▍         | 24/500 [1:22:56<27:23:31, 207.17s/it]"
     ]
    },
    {
     "name": "stdout",
     "output_type": "stream",
     "text": [
      "Val Loss=10.2238, Val Acc=0.00%\n",
      "\n",
      "Epoch 25: Train Loss=0.8866, Train Acc=98.99%\n"
     ]
    },
    {
     "name": "stderr",
     "output_type": "stream",
     "text": [
      "  5%|▌         | 25/500 [1:26:24<27:23:09, 207.56s/it]"
     ]
    },
    {
     "name": "stdout",
     "output_type": "stream",
     "text": [
      "Val Loss=10.2198, Val Acc=0.00%\n",
      "\n",
      "Epoch 26: Train Loss=0.8757, Train Acc=99.02%\n"
     ]
    },
    {
     "name": "stderr",
     "output_type": "stream",
     "text": [
      "  5%|▌         | 26/500 [1:29:51<27:18:39, 207.43s/it]"
     ]
    },
    {
     "name": "stdout",
     "output_type": "stream",
     "text": [
      "Val Loss=10.2165, Val Acc=0.00%\n",
      "\n",
      "Epoch 27: Train Loss=0.8661, Train Acc=99.08%\n"
     ]
    },
    {
     "name": "stderr",
     "output_type": "stream",
     "text": [
      "  5%|▌         | 27/500 [1:33:19<27:14:42, 207.36s/it]"
     ]
    },
    {
     "name": "stdout",
     "output_type": "stream",
     "text": [
      "Val Loss=10.2170, Val Acc=0.00%\n",
      "\n",
      "Epoch 28: Train Loss=0.8566, Train Acc=99.13%\n"
     ]
    },
    {
     "name": "stderr",
     "output_type": "stream",
     "text": [
      "  6%|▌         | 28/500 [1:36:46<27:10:17, 207.24s/it]"
     ]
    },
    {
     "name": "stdout",
     "output_type": "stream",
     "text": [
      "Val Loss=10.1713, Val Acc=0.00%\n",
      "\n",
      "Epoch 29: Train Loss=0.8472, Train Acc=99.17%\n"
     ]
    },
    {
     "name": "stderr",
     "output_type": "stream",
     "text": [
      "  6%|▌         | 29/500 [1:40:13<27:07:02, 207.27s/it]"
     ]
    },
    {
     "name": "stdout",
     "output_type": "stream",
     "text": [
      "Val Loss=10.2155, Val Acc=0.00%\n",
      "\n",
      "Epoch 30: Train Loss=0.8371, Train Acc=99.18%\n"
     ]
    },
    {
     "name": "stderr",
     "output_type": "stream",
     "text": [
      "  6%|▌         | 30/500 [1:43:40<27:03:33, 207.26s/it]"
     ]
    },
    {
     "name": "stdout",
     "output_type": "stream",
     "text": [
      "Val Loss=10.1936, Val Acc=0.00%\n",
      "\n",
      "Epoch 31: Train Loss=0.8280, Train Acc=99.24%\n"
     ]
    },
    {
     "name": "stderr",
     "output_type": "stream",
     "text": [
      "  6%|▌         | 31/500 [1:47:08<27:01:58, 207.50s/it]"
     ]
    },
    {
     "name": "stdout",
     "output_type": "stream",
     "text": [
      "Val Loss=10.1576, Val Acc=0.00%\n",
      "\n",
      "Epoch 32: Train Loss=0.8196, Train Acc=99.26%\n"
     ]
    },
    {
     "name": "stderr",
     "output_type": "stream",
     "text": [
      "  6%|▋         | 32/500 [1:50:35<26:57:07, 207.32s/it]"
     ]
    },
    {
     "name": "stdout",
     "output_type": "stream",
     "text": [
      "Val Loss=10.1709, Val Acc=0.00%\n",
      "\n",
      "Epoch 33: Train Loss=0.8113, Train Acc=99.29%\n"
     ]
    },
    {
     "name": "stderr",
     "output_type": "stream",
     "text": [
      "  7%|▋         | 33/500 [1:54:04<26:57:18, 207.79s/it]"
     ]
    },
    {
     "name": "stdout",
     "output_type": "stream",
     "text": [
      "Val Loss=10.1991, Val Acc=0.00%\n",
      "\n",
      "Epoch 34: Train Loss=0.8029, Train Acc=99.32%\n"
     ]
    },
    {
     "name": "stderr",
     "output_type": "stream",
     "text": [
      "  7%|▋         | 34/500 [1:57:32<26:53:18, 207.72s/it]"
     ]
    },
    {
     "name": "stdout",
     "output_type": "stream",
     "text": [
      "Val Loss=10.1895, Val Acc=0.00%\n",
      "\n",
      "Epoch 35: Train Loss=0.7942, Train Acc=99.32%\n"
     ]
    },
    {
     "name": "stderr",
     "output_type": "stream",
     "text": [
      "  7%|▋         | 35/500 [2:00:59<26:48:20, 207.53s/it]"
     ]
    },
    {
     "name": "stdout",
     "output_type": "stream",
     "text": [
      "Val Loss=10.1538, Val Acc=0.00%\n",
      "\n",
      "Epoch 36: Train Loss=0.7859, Train Acc=99.35%\n"
     ]
    },
    {
     "name": "stderr",
     "output_type": "stream",
     "text": [
      "  7%|▋         | 36/500 [2:04:26<26:44:05, 207.43s/it]"
     ]
    },
    {
     "name": "stdout",
     "output_type": "stream",
     "text": [
      "Val Loss=10.1487, Val Acc=0.00%\n",
      "\n",
      "Epoch 37: Train Loss=0.7773, Train Acc=99.38%\n"
     ]
    },
    {
     "name": "stderr",
     "output_type": "stream",
     "text": [
      "  7%|▋         | 37/500 [2:07:53<26:40:25, 207.40s/it]"
     ]
    },
    {
     "name": "stdout",
     "output_type": "stream",
     "text": [
      "Val Loss=10.1485, Val Acc=0.00%\n",
      "\n",
      "Epoch 38: Train Loss=0.7688, Train Acc=99.39%\n"
     ]
    },
    {
     "name": "stderr",
     "output_type": "stream",
     "text": [
      "  8%|▊         | 38/500 [2:11:20<26:36:34, 207.35s/it]"
     ]
    },
    {
     "name": "stdout",
     "output_type": "stream",
     "text": [
      "Val Loss=10.1581, Val Acc=0.00%\n",
      "\n",
      "Epoch 39: Train Loss=0.7620, Train Acc=99.43%\n"
     ]
    },
    {
     "name": "stderr",
     "output_type": "stream",
     "text": [
      "  8%|▊         | 39/500 [2:14:47<26:32:22, 207.25s/it]"
     ]
    },
    {
     "name": "stdout",
     "output_type": "stream",
     "text": [
      "Val Loss=10.1341, Val Acc=0.00%\n",
      "\n",
      "Epoch 40: Train Loss=0.7527, Train Acc=99.43%\n"
     ]
    },
    {
     "name": "stderr",
     "output_type": "stream",
     "text": [
      "  8%|▊         | 40/500 [2:18:14<26:28:32, 207.20s/it]"
     ]
    },
    {
     "name": "stdout",
     "output_type": "stream",
     "text": [
      "Val Loss=10.1159, Val Acc=0.00%\n",
      "\n",
      "Epoch 41: Train Loss=0.7456, Train Acc=99.44%\n"
     ]
    },
    {
     "name": "stderr",
     "output_type": "stream",
     "text": [
      "  8%|▊         | 41/500 [2:21:42<26:24:59, 207.19s/it]"
     ]
    },
    {
     "name": "stdout",
     "output_type": "stream",
     "text": [
      "Val Loss=10.0995, Val Acc=0.00%\n",
      "\n",
      "Epoch 42: Train Loss=0.7383, Train Acc=99.45%\n"
     ]
    },
    {
     "name": "stderr",
     "output_type": "stream",
     "text": [
      "  8%|▊         | 42/500 [2:25:08<26:20:24, 207.04s/it]"
     ]
    },
    {
     "name": "stdout",
     "output_type": "stream",
     "text": [
      "Val Loss=10.1596, Val Acc=0.00%\n",
      "\n",
      "Epoch 43: Train Loss=0.7299, Train Acc=99.49%\n"
     ]
    },
    {
     "name": "stderr",
     "output_type": "stream",
     "text": [
      "  9%|▊         | 43/500 [2:28:35<26:16:29, 206.98s/it]"
     ]
    },
    {
     "name": "stdout",
     "output_type": "stream",
     "text": [
      "Val Loss=10.1322, Val Acc=0.00%\n",
      "\n",
      "Epoch 44: Train Loss=0.7221, Train Acc=99.50%\n"
     ]
    },
    {
     "name": "stderr",
     "output_type": "stream",
     "text": [
      "  9%|▉         | 44/500 [2:32:02<26:12:52, 206.96s/it]"
     ]
    },
    {
     "name": "stdout",
     "output_type": "stream",
     "text": [
      "Val Loss=10.1363, Val Acc=0.00%\n",
      "\n",
      "Epoch 45: Train Loss=0.7152, Train Acc=99.51%\n"
     ]
    },
    {
     "name": "stderr",
     "output_type": "stream",
     "text": [
      "  9%|▉         | 45/500 [2:35:29<26:09:25, 206.96s/it]"
     ]
    },
    {
     "name": "stdout",
     "output_type": "stream",
     "text": [
      "Val Loss=10.1024, Val Acc=0.00%\n",
      "\n",
      "Epoch 46: Train Loss=0.7073, Train Acc=99.51%\n"
     ]
    },
    {
     "name": "stderr",
     "output_type": "stream",
     "text": [
      "  9%|▉         | 46/500 [2:38:56<26:06:00, 206.96s/it]"
     ]
    },
    {
     "name": "stdout",
     "output_type": "stream",
     "text": [
      "Val Loss=10.1221, Val Acc=0.00%\n",
      "\n",
      "Epoch 47: Train Loss=0.7007, Train Acc=99.54%\n"
     ]
    },
    {
     "name": "stderr",
     "output_type": "stream",
     "text": [
      "  9%|▉         | 47/500 [2:42:23<26:02:10, 206.91s/it]"
     ]
    },
    {
     "name": "stdout",
     "output_type": "stream",
     "text": [
      "Val Loss=10.1099, Val Acc=0.00%\n",
      "\n",
      "Epoch 48: Train Loss=0.6925, Train Acc=99.53%\n"
     ]
    },
    {
     "name": "stderr",
     "output_type": "stream",
     "text": [
      " 10%|▉         | 48/500 [2:45:50<25:58:51, 206.93s/it]"
     ]
    },
    {
     "name": "stdout",
     "output_type": "stream",
     "text": [
      "Val Loss=10.0902, Val Acc=0.00%\n",
      "\n",
      "Epoch 49: Train Loss=0.6855, Train Acc=99.54%\n"
     ]
    },
    {
     "name": "stderr",
     "output_type": "stream",
     "text": [
      " 10%|▉         | 49/500 [2:49:17<25:56:55, 207.13s/it]"
     ]
    },
    {
     "name": "stdout",
     "output_type": "stream",
     "text": [
      "Val Loss=10.0945, Val Acc=0.00%\n",
      "\n",
      "Epoch 50: Train Loss=0.6787, Train Acc=99.57%\n"
     ]
    },
    {
     "name": "stderr",
     "output_type": "stream",
     "text": [
      " 10%|█         | 50/500 [2:52:44<25:53:01, 207.07s/it]"
     ]
    },
    {
     "name": "stdout",
     "output_type": "stream",
     "text": [
      "Val Loss=10.0639, Val Acc=0.00%\n",
      "\n",
      "Epoch 51: Train Loss=0.6712, Train Acc=99.57%\n"
     ]
    },
    {
     "name": "stderr",
     "output_type": "stream",
     "text": [
      " 10%|█         | 51/500 [2:56:11<25:49:04, 207.00s/it]"
     ]
    },
    {
     "name": "stdout",
     "output_type": "stream",
     "text": [
      "Val Loss=10.0900, Val Acc=0.00%\n",
      "\n",
      "Epoch 52: Train Loss=0.6645, Train Acc=99.57%\n"
     ]
    },
    {
     "name": "stderr",
     "output_type": "stream",
     "text": [
      " 10%|█         | 52/500 [2:59:38<25:44:55, 206.91s/it]"
     ]
    },
    {
     "name": "stdout",
     "output_type": "stream",
     "text": [
      "Val Loss=10.0843, Val Acc=0.00%\n",
      "\n",
      "Epoch 53: Train Loss=0.6586, Train Acc=99.56%\n"
     ]
    },
    {
     "name": "stderr",
     "output_type": "stream",
     "text": [
      " 11%|█         | 53/500 [3:03:05<25:41:39, 206.93s/it]"
     ]
    },
    {
     "name": "stdout",
     "output_type": "stream",
     "text": [
      "Val Loss=10.0991, Val Acc=0.00%\n",
      "\n",
      "Epoch 54: Train Loss=0.6520, Train Acc=99.60%\n"
     ]
    },
    {
     "name": "stderr",
     "output_type": "stream",
     "text": [
      " 11%|█         | 54/500 [3:06:31<25:37:37, 206.85s/it]"
     ]
    },
    {
     "name": "stdout",
     "output_type": "stream",
     "text": [
      "Val Loss=10.0417, Val Acc=0.00%\n",
      "\n",
      "Epoch 55: Train Loss=0.6457, Train Acc=99.59%\n"
     ]
    },
    {
     "name": "stderr",
     "output_type": "stream",
     "text": [
      " 11%|█         | 55/500 [3:09:59<25:34:37, 206.91s/it]"
     ]
    },
    {
     "name": "stdout",
     "output_type": "stream",
     "text": [
      "Val Loss=10.0570, Val Acc=0.00%\n",
      "\n",
      "Epoch 56: Train Loss=0.6395, Train Acc=99.60%\n"
     ]
    },
    {
     "name": "stderr",
     "output_type": "stream",
     "text": [
      " 11%|█         | 56/500 [3:13:25<25:31:02, 206.90s/it]"
     ]
    },
    {
     "name": "stdout",
     "output_type": "stream",
     "text": [
      "Val Loss=10.0600, Val Acc=0.00%\n",
      "\n",
      "Epoch 57: Train Loss=0.6333, Train Acc=99.60%\n"
     ]
    },
    {
     "name": "stderr",
     "output_type": "stream",
     "text": [
      " 11%|█▏        | 57/500 [3:16:52<25:27:18, 206.86s/it]"
     ]
    },
    {
     "name": "stdout",
     "output_type": "stream",
     "text": [
      "Val Loss=10.0459, Val Acc=0.00%\n",
      "\n",
      "Epoch 58: Train Loss=0.6277, Train Acc=99.63%\n"
     ]
    },
    {
     "name": "stderr",
     "output_type": "stream",
     "text": [
      " 12%|█▏        | 58/500 [3:20:19<25:24:23, 206.93s/it]"
     ]
    },
    {
     "name": "stdout",
     "output_type": "stream",
     "text": [
      "Val Loss=10.0384, Val Acc=0.00%\n",
      "\n",
      "Epoch 59: Train Loss=0.6212, Train Acc=99.62%\n"
     ]
    },
    {
     "name": "stderr",
     "output_type": "stream",
     "text": [
      " 12%|█▏        | 59/500 [3:23:46<25:20:50, 206.92s/it]"
     ]
    },
    {
     "name": "stdout",
     "output_type": "stream",
     "text": [
      "Val Loss=10.0372, Val Acc=0.00%\n",
      "\n",
      "Epoch 60: Train Loss=0.6160, Train Acc=99.61%\n"
     ]
    },
    {
     "name": "stderr",
     "output_type": "stream",
     "text": [
      " 12%|█▏        | 60/500 [3:27:13<25:17:26, 206.92s/it]"
     ]
    },
    {
     "name": "stdout",
     "output_type": "stream",
     "text": [
      "Val Loss=10.0228, Val Acc=0.00%\n",
      "\n",
      "Epoch 61: Train Loss=0.6100, Train Acc=99.63%\n"
     ]
    },
    {
     "name": "stderr",
     "output_type": "stream",
     "text": [
      " 12%|█▏        | 61/500 [3:30:40<25:14:45, 207.03s/it]"
     ]
    },
    {
     "name": "stdout",
     "output_type": "stream",
     "text": [
      "Val Loss=10.0247, Val Acc=0.00%\n",
      "\n",
      "Epoch 62: Train Loss=0.6051, Train Acc=99.64%\n"
     ]
    },
    {
     "name": "stderr",
     "output_type": "stream",
     "text": [
      " 12%|█▏        | 62/500 [3:34:07<25:11:18, 207.03s/it]"
     ]
    },
    {
     "name": "stdout",
     "output_type": "stream",
     "text": [
      "Val Loss=10.0066, Val Acc=0.00%\n",
      "\n",
      "Epoch 63: Train Loss=0.5992, Train Acc=99.63%\n"
     ]
    },
    {
     "name": "stderr",
     "output_type": "stream",
     "text": [
      " 13%|█▎        | 63/500 [3:37:34<25:07:59, 207.05s/it]"
     ]
    },
    {
     "name": "stdout",
     "output_type": "stream",
     "text": [
      "Val Loss=10.0163, Val Acc=0.00%\n",
      "\n",
      "Epoch 64: Train Loss=0.5939, Train Acc=99.65%\n"
     ]
    },
    {
     "name": "stderr",
     "output_type": "stream",
     "text": [
      " 13%|█▎        | 64/500 [3:41:01<25:04:22, 207.02s/it]"
     ]
    },
    {
     "name": "stdout",
     "output_type": "stream",
     "text": [
      "Val Loss=10.0110, Val Acc=0.00%\n",
      "\n",
      "Epoch 65: Train Loss=0.5891, Train Acc=99.63%\n"
     ]
    },
    {
     "name": "stderr",
     "output_type": "stream",
     "text": [
      " 13%|█▎        | 65/500 [3:44:29<25:01:21, 207.08s/it]"
     ]
    },
    {
     "name": "stdout",
     "output_type": "stream",
     "text": [
      "Val Loss=10.0077, Val Acc=0.00%\n",
      "\n",
      "Epoch 66: Train Loss=0.5843, Train Acc=99.64%\n"
     ]
    },
    {
     "name": "stderr",
     "output_type": "stream",
     "text": [
      " 13%|█▎        | 66/500 [3:47:56<24:57:38, 207.05s/it]"
     ]
    },
    {
     "name": "stdout",
     "output_type": "stream",
     "text": [
      "Val Loss=10.0130, Val Acc=0.00%\n",
      "\n",
      "Epoch 67: Train Loss=0.5799, Train Acc=99.65%\n"
     ]
    },
    {
     "name": "stderr",
     "output_type": "stream",
     "text": [
      " 13%|█▎        | 67/500 [3:51:23<24:54:26, 207.08s/it]"
     ]
    },
    {
     "name": "stdout",
     "output_type": "stream",
     "text": [
      "Val Loss=10.0041, Val Acc=0.00%\n",
      "\n",
      "Epoch 68: Train Loss=0.5748, Train Acc=99.64%\n"
     ]
    },
    {
     "name": "stderr",
     "output_type": "stream",
     "text": [
      " 14%|█▎        | 68/500 [3:54:50<24:50:17, 206.99s/it]"
     ]
    },
    {
     "name": "stdout",
     "output_type": "stream",
     "text": [
      "Val Loss=10.0315, Val Acc=0.00%\n",
      "\n",
      "Epoch 69: Train Loss=0.5700, Train Acc=99.65%\n"
     ]
    },
    {
     "name": "stderr",
     "output_type": "stream",
     "text": [
      " 14%|█▍        | 69/500 [3:58:17<24:46:58, 207.00s/it]"
     ]
    },
    {
     "name": "stdout",
     "output_type": "stream",
     "text": [
      "Val Loss=9.9821, Val Acc=0.00%\n",
      "\n",
      "Epoch 70: Train Loss=0.5651, Train Acc=99.66%\n"
     ]
    },
    {
     "name": "stderr",
     "output_type": "stream",
     "text": [
      " 14%|█▍        | 70/500 [4:01:44<24:43:39, 207.02s/it]"
     ]
    },
    {
     "name": "stdout",
     "output_type": "stream",
     "text": [
      "Val Loss=9.9730, Val Acc=0.00%\n",
      "\n",
      "Epoch 71: Train Loss=0.5613, Train Acc=99.65%\n"
     ]
    },
    {
     "name": "stderr",
     "output_type": "stream",
     "text": [
      " 14%|█▍        | 71/500 [4:05:11<24:40:22, 207.05s/it]"
     ]
    },
    {
     "name": "stdout",
     "output_type": "stream",
     "text": [
      "Val Loss=9.9678, Val Acc=0.00%\n",
      "\n",
      "Epoch 72: Train Loss=0.5564, Train Acc=99.66%\n"
     ]
    },
    {
     "name": "stderr",
     "output_type": "stream",
     "text": [
      " 14%|█▍        | 72/500 [4:08:38<24:37:12, 207.09s/it]"
     ]
    },
    {
     "name": "stdout",
     "output_type": "stream",
     "text": [
      "Val Loss=10.0134, Val Acc=0.00%\n",
      "\n",
      "Epoch 73: Train Loss=0.5527, Train Acc=99.66%\n"
     ]
    },
    {
     "name": "stderr",
     "output_type": "stream",
     "text": [
      " 15%|█▍        | 73/500 [4:12:05<24:33:33, 207.06s/it]"
     ]
    },
    {
     "name": "stdout",
     "output_type": "stream",
     "text": [
      "Val Loss=10.0135, Val Acc=0.00%\n",
      "\n",
      "Epoch 74: Train Loss=0.5489, Train Acc=99.67%\n"
     ]
    },
    {
     "name": "stderr",
     "output_type": "stream",
     "text": [
      " 15%|█▍        | 74/500 [4:15:32<24:30:13, 207.07s/it]"
     ]
    },
    {
     "name": "stdout",
     "output_type": "stream",
     "text": [
      "Val Loss=9.9684, Val Acc=0.00%\n",
      "\n",
      "Epoch 75: Train Loss=0.5446, Train Acc=99.67%\n"
     ]
    },
    {
     "name": "stderr",
     "output_type": "stream",
     "text": [
      " 15%|█▌        | 75/500 [4:18:59<24:26:14, 207.00s/it]"
     ]
    },
    {
     "name": "stdout",
     "output_type": "stream",
     "text": [
      "Val Loss=9.9549, Val Acc=0.00%\n",
      "\n",
      "Epoch 76: Train Loss=0.5403, Train Acc=99.67%\n"
     ]
    },
    {
     "name": "stderr",
     "output_type": "stream",
     "text": [
      " 15%|█▌        | 76/500 [4:22:26<24:22:09, 206.91s/it]"
     ]
    },
    {
     "name": "stdout",
     "output_type": "stream",
     "text": [
      "Val Loss=9.9646, Val Acc=0.00%\n",
      "\n",
      "Epoch 77: Train Loss=0.5366, Train Acc=99.67%\n"
     ]
    },
    {
     "name": "stderr",
     "output_type": "stream",
     "text": [
      " 15%|█▌        | 77/500 [4:25:52<24:18:33, 206.89s/it]"
     ]
    },
    {
     "name": "stdout",
     "output_type": "stream",
     "text": [
      "Val Loss=9.9870, Val Acc=0.00%\n",
      "\n",
      "Epoch 78: Train Loss=0.5331, Train Acc=99.66%\n"
     ]
    },
    {
     "name": "stderr",
     "output_type": "stream",
     "text": [
      " 16%|█▌        | 78/500 [4:29:19<24:15:08, 206.89s/it]"
     ]
    },
    {
     "name": "stdout",
     "output_type": "stream",
     "text": [
      "Val Loss=9.9529, Val Acc=0.00%\n",
      "\n",
      "Epoch 79: Train Loss=0.5296, Train Acc=99.69%\n"
     ]
    },
    {
     "name": "stderr",
     "output_type": "stream",
     "text": [
      " 16%|█▌        | 79/500 [4:32:46<24:11:44, 206.90s/it]"
     ]
    },
    {
     "name": "stdout",
     "output_type": "stream",
     "text": [
      "Val Loss=9.9589, Val Acc=0.00%\n",
      "\n",
      "Epoch 80: Train Loss=0.5256, Train Acc=99.70%\n"
     ]
    },
    {
     "name": "stderr",
     "output_type": "stream",
     "text": [
      " 16%|█▌        | 80/500 [4:36:13<24:07:47, 206.83s/it]"
     ]
    },
    {
     "name": "stdout",
     "output_type": "stream",
     "text": [
      "Val Loss=9.9491, Val Acc=0.00%\n",
      "\n",
      "Epoch 81: Train Loss=0.5213, Train Acc=99.69%\n"
     ]
    },
    {
     "name": "stderr",
     "output_type": "stream",
     "text": [
      " 16%|█▌        | 81/500 [4:39:40<24:04:37, 206.87s/it]"
     ]
    },
    {
     "name": "stdout",
     "output_type": "stream",
     "text": [
      "Val Loss=9.9464, Val Acc=0.00%\n",
      "\n",
      "Epoch 82: Train Loss=0.5183, Train Acc=99.69%\n"
     ]
    },
    {
     "name": "stderr",
     "output_type": "stream",
     "text": [
      " 16%|█▋        | 82/500 [4:43:07<24:01:12, 206.87s/it]"
     ]
    },
    {
     "name": "stdout",
     "output_type": "stream",
     "text": [
      "Val Loss=9.9543, Val Acc=0.00%\n",
      "\n",
      "Epoch 83: Train Loss=0.5153, Train Acc=99.67%\n"
     ]
    },
    {
     "name": "stderr",
     "output_type": "stream",
     "text": [
      " 17%|█▋        | 83/500 [4:46:34<23:57:49, 206.88s/it]"
     ]
    },
    {
     "name": "stdout",
     "output_type": "stream",
     "text": [
      "Val Loss=9.9486, Val Acc=0.00%\n",
      "\n",
      "Epoch 84: Train Loss=0.5120, Train Acc=99.68%\n"
     ]
    },
    {
     "name": "stderr",
     "output_type": "stream",
     "text": [
      " 17%|█▋        | 84/500 [4:50:01<23:54:19, 206.87s/it]"
     ]
    },
    {
     "name": "stdout",
     "output_type": "stream",
     "text": [
      "Val Loss=9.9597, Val Acc=0.00%\n",
      "\n",
      "Epoch 85: Train Loss=0.5087, Train Acc=99.69%\n"
     ]
    },
    {
     "name": "stderr",
     "output_type": "stream",
     "text": [
      " 17%|█▋        | 85/500 [4:53:28<23:51:07, 206.91s/it]"
     ]
    },
    {
     "name": "stdout",
     "output_type": "stream",
     "text": [
      "Val Loss=9.9559, Val Acc=0.00%\n",
      "\n",
      "Epoch 86: Train Loss=0.5056, Train Acc=99.68%\n"
     ]
    },
    {
     "name": "stderr",
     "output_type": "stream",
     "text": [
      " 17%|█▋        | 86/500 [4:56:55<23:47:58, 206.95s/it]"
     ]
    },
    {
     "name": "stdout",
     "output_type": "stream",
     "text": [
      "Val Loss=9.9419, Val Acc=0.00%\n",
      "\n",
      "Epoch 87: Train Loss=0.5022, Train Acc=99.68%\n"
     ]
    },
    {
     "name": "stderr",
     "output_type": "stream",
     "text": [
      " 17%|█▋        | 87/500 [5:00:21<23:44:27, 206.94s/it]"
     ]
    },
    {
     "name": "stdout",
     "output_type": "stream",
     "text": [
      "Val Loss=9.9568, Val Acc=0.00%\n",
      "\n",
      "Epoch 88: Train Loss=0.4989, Train Acc=99.70%\n"
     ]
    },
    {
     "name": "stderr",
     "output_type": "stream",
     "text": [
      " 18%|█▊        | 88/500 [5:03:48<23:41:10, 206.97s/it]"
     ]
    },
    {
     "name": "stdout",
     "output_type": "stream",
     "text": [
      "Val Loss=9.9264, Val Acc=0.00%\n",
      "\n",
      "Epoch 89: Train Loss=0.4961, Train Acc=99.70%\n"
     ]
    },
    {
     "name": "stderr",
     "output_type": "stream",
     "text": [
      " 18%|█▊        | 89/500 [5:07:16<23:37:49, 206.98s/it]"
     ]
    },
    {
     "name": "stdout",
     "output_type": "stream",
     "text": [
      "Val Loss=9.9206, Val Acc=0.00%\n",
      "\n",
      "Epoch 90: Train Loss=0.4931, Train Acc=99.71%\n"
     ]
    },
    {
     "name": "stderr",
     "output_type": "stream",
     "text": [
      " 18%|█▊        | 90/500 [5:10:43<23:34:27, 206.99s/it]"
     ]
    },
    {
     "name": "stdout",
     "output_type": "stream",
     "text": [
      "Val Loss=9.9305, Val Acc=0.00%\n",
      "\n",
      "Epoch 91: Train Loss=0.4902, Train Acc=99.69%\n"
     ]
    },
    {
     "name": "stderr",
     "output_type": "stream",
     "text": [
      " 18%|█▊        | 91/500 [5:14:10<23:32:07, 207.16s/it]"
     ]
    },
    {
     "name": "stdout",
     "output_type": "stream",
     "text": [
      "Val Loss=9.9373, Val Acc=0.00%\n",
      "\n",
      "Epoch 92: Train Loss=0.4879, Train Acc=99.69%\n"
     ]
    },
    {
     "name": "stderr",
     "output_type": "stream",
     "text": [
      " 18%|█▊        | 92/500 [5:17:37<23:28:34, 207.14s/it]"
     ]
    },
    {
     "name": "stdout",
     "output_type": "stream",
     "text": [
      "Val Loss=9.9348, Val Acc=0.00%\n",
      "\n",
      "Epoch 93: Train Loss=0.4849, Train Acc=99.71%\n"
     ]
    },
    {
     "name": "stderr",
     "output_type": "stream",
     "text": [
      " 19%|█▊        | 93/500 [5:21:04<23:25:00, 207.13s/it]"
     ]
    },
    {
     "name": "stdout",
     "output_type": "stream",
     "text": [
      "Val Loss=9.9336, Val Acc=0.00%\n",
      "\n",
      "Epoch 94: Train Loss=0.4822, Train Acc=99.71%\n"
     ]
    },
    {
     "name": "stderr",
     "output_type": "stream",
     "text": [
      " 19%|█▉        | 94/500 [5:24:31<23:20:46, 207.01s/it]"
     ]
    },
    {
     "name": "stdout",
     "output_type": "stream",
     "text": [
      "Val Loss=9.9152, Val Acc=0.00%\n",
      "\n",
      "Epoch 95: Train Loss=0.4793, Train Acc=99.72%\n"
     ]
    },
    {
     "name": "stderr",
     "output_type": "stream",
     "text": [
      " 19%|█▉        | 95/500 [5:27:58<23:17:19, 207.01s/it]"
     ]
    },
    {
     "name": "stdout",
     "output_type": "stream",
     "text": [
      "Val Loss=9.9206, Val Acc=0.00%\n",
      "\n",
      "Epoch 96: Train Loss=0.4767, Train Acc=99.71%\n"
     ]
    },
    {
     "name": "stderr",
     "output_type": "stream",
     "text": [
      " 19%|█▉        | 96/500 [5:31:25<23:13:32, 206.96s/it]"
     ]
    },
    {
     "name": "stdout",
     "output_type": "stream",
     "text": [
      "Val Loss=9.8856, Val Acc=0.00%\n",
      "\n",
      "Epoch 97: Train Loss=0.4744, Train Acc=99.71%\n"
     ]
    },
    {
     "name": "stderr",
     "output_type": "stream",
     "text": [
      " 19%|█▉        | 97/500 [5:34:52<23:10:16, 206.99s/it]"
     ]
    },
    {
     "name": "stdout",
     "output_type": "stream",
     "text": [
      "Val Loss=9.9007, Val Acc=0.00%\n",
      "\n",
      "Epoch 98: Train Loss=0.4724, Train Acc=99.70%\n"
     ]
    },
    {
     "name": "stderr",
     "output_type": "stream",
     "text": [
      " 20%|█▉        | 98/500 [5:38:19<23:06:52, 207.00s/it]"
     ]
    },
    {
     "name": "stdout",
     "output_type": "stream",
     "text": [
      "Val Loss=9.9065, Val Acc=0.00%\n",
      "\n",
      "Epoch 99: Train Loss=0.4687, Train Acc=99.72%\n"
     ]
    },
    {
     "name": "stderr",
     "output_type": "stream",
     "text": [
      " 20%|█▉        | 99/500 [5:41:46<23:03:20, 206.98s/it]"
     ]
    },
    {
     "name": "stdout",
     "output_type": "stream",
     "text": [
      "Val Loss=9.8897, Val Acc=0.00%\n",
      "\n",
      "Epoch 100: Train Loss=0.4668, Train Acc=99.73%\n"
     ]
    },
    {
     "name": "stderr",
     "output_type": "stream",
     "text": [
      " 20%|██        | 100/500 [5:45:13<23:00:40, 207.10s/it]"
     ]
    },
    {
     "name": "stdout",
     "output_type": "stream",
     "text": [
      "Val Loss=9.9045, Val Acc=0.00%\n",
      "\n",
      "Epoch 101: Train Loss=0.4644, Train Acc=99.71%\n"
     ]
    },
    {
     "name": "stderr",
     "output_type": "stream",
     "text": [
      " 20%|██        | 101/500 [5:48:40<22:57:03, 207.08s/it]"
     ]
    },
    {
     "name": "stdout",
     "output_type": "stream",
     "text": [
      "Val Loss=9.9071, Val Acc=0.00%\n",
      "\n",
      "Epoch 102: Train Loss=0.4623, Train Acc=99.72%\n"
     ]
    },
    {
     "name": "stderr",
     "output_type": "stream",
     "text": [
      " 20%|██        | 102/500 [5:52:07<22:53:44, 207.10s/it]"
     ]
    },
    {
     "name": "stdout",
     "output_type": "stream",
     "text": [
      "Val Loss=9.9122, Val Acc=0.00%\n",
      "\n",
      "Epoch 103: Train Loss=0.4602, Train Acc=99.72%\n"
     ]
    },
    {
     "name": "stderr",
     "output_type": "stream",
     "text": [
      " 21%|██        | 103/500 [5:55:37<22:55:37, 207.90s/it]"
     ]
    },
    {
     "name": "stdout",
     "output_type": "stream",
     "text": [
      "Val Loss=9.8599, Val Acc=0.00%\n",
      "\n",
      "Epoch 104: Train Loss=0.4575, Train Acc=99.71%\n"
     ]
    },
    {
     "name": "stderr",
     "output_type": "stream",
     "text": [
      " 21%|██        | 104/500 [5:59:05<22:51:58, 207.88s/it]"
     ]
    },
    {
     "name": "stdout",
     "output_type": "stream",
     "text": [
      "Val Loss=9.8899, Val Acc=0.00%\n",
      "\n",
      "Epoch 105: Train Loss=0.4551, Train Acc=99.73%\n"
     ]
    },
    {
     "name": "stderr",
     "output_type": "stream",
     "text": [
      " 21%|██        | 105/500 [6:02:32<22:47:17, 207.69s/it]"
     ]
    },
    {
     "name": "stdout",
     "output_type": "stream",
     "text": [
      "Val Loss=9.9036, Val Acc=0.00%\n",
      "\n",
      "Epoch 106: Train Loss=0.4531, Train Acc=99.73%\n"
     ]
    },
    {
     "name": "stderr",
     "output_type": "stream",
     "text": [
      " 21%|██        | 106/500 [6:06:00<22:43:08, 207.58s/it]"
     ]
    },
    {
     "name": "stdout",
     "output_type": "stream",
     "text": [
      "Val Loss=9.8838, Val Acc=0.00%\n",
      "\n",
      "Epoch 107: Train Loss=0.4513, Train Acc=99.71%\n"
     ]
    },
    {
     "name": "stderr",
     "output_type": "stream",
     "text": [
      " 21%|██▏       | 107/500 [6:09:27<22:39:27, 207.55s/it]"
     ]
    },
    {
     "name": "stdout",
     "output_type": "stream",
     "text": [
      "Val Loss=9.8798, Val Acc=0.00%\n",
      "\n",
      "Epoch 108: Train Loss=0.4492, Train Acc=99.74%\n"
     ]
    },
    {
     "name": "stderr",
     "output_type": "stream",
     "text": [
      " 22%|██▏       | 108/500 [6:12:54<22:35:02, 207.40s/it]"
     ]
    },
    {
     "name": "stdout",
     "output_type": "stream",
     "text": [
      "Val Loss=9.8993, Val Acc=0.00%\n",
      "\n",
      "Epoch 109: Train Loss=0.4468, Train Acc=99.73%\n"
     ]
    },
    {
     "name": "stderr",
     "output_type": "stream",
     "text": [
      " 22%|██▏       | 109/500 [6:16:21<22:31:18, 207.36s/it]"
     ]
    },
    {
     "name": "stdout",
     "output_type": "stream",
     "text": [
      "Val Loss=9.8858, Val Acc=0.00%\n",
      "\n",
      "Epoch 110: Train Loss=0.4451, Train Acc=99.73%\n"
     ]
    },
    {
     "name": "stderr",
     "output_type": "stream",
     "text": [
      " 22%|██▏       | 110/500 [6:19:48<22:27:00, 207.23s/it]"
     ]
    },
    {
     "name": "stdout",
     "output_type": "stream",
     "text": [
      "Val Loss=9.8738, Val Acc=0.00%\n",
      "\n",
      "Epoch 111: Train Loss=0.4429, Train Acc=99.73%\n"
     ]
    },
    {
     "name": "stderr",
     "output_type": "stream",
     "text": [
      " 22%|██▏       | 111/500 [6:23:15<22:22:47, 207.12s/it]"
     ]
    },
    {
     "name": "stdout",
     "output_type": "stream",
     "text": [
      "Val Loss=9.8716, Val Acc=0.00%\n",
      "\n",
      "Epoch 112: Train Loss=0.4408, Train Acc=99.72%\n"
     ]
    },
    {
     "name": "stderr",
     "output_type": "stream",
     "text": [
      " 22%|██▏       | 112/500 [6:26:42<22:19:18, 207.11s/it]"
     ]
    },
    {
     "name": "stdout",
     "output_type": "stream",
     "text": [
      "Val Loss=9.8797, Val Acc=0.00%\n",
      "\n",
      "Epoch 113: Train Loss=0.4394, Train Acc=99.74%\n"
     ]
    },
    {
     "name": "stderr",
     "output_type": "stream",
     "text": [
      " 23%|██▎       | 113/500 [6:30:10<22:16:10, 207.16s/it]"
     ]
    },
    {
     "name": "stdout",
     "output_type": "stream",
     "text": [
      "Val Loss=9.9033, Val Acc=0.00%\n",
      "\n",
      "Epoch 114: Train Loss=0.4372, Train Acc=99.73%\n"
     ]
    },
    {
     "name": "stderr",
     "output_type": "stream",
     "text": [
      " 23%|██▎       | 114/500 [6:33:37<22:13:11, 207.23s/it]"
     ]
    },
    {
     "name": "stdout",
     "output_type": "stream",
     "text": [
      "Val Loss=9.8807, Val Acc=0.00%\n",
      "\n",
      "Epoch 115: Train Loss=0.4350, Train Acc=99.74%\n"
     ]
    },
    {
     "name": "stderr",
     "output_type": "stream",
     "text": [
      " 23%|██▎       | 115/500 [6:37:04<22:09:51, 207.25s/it]"
     ]
    },
    {
     "name": "stdout",
     "output_type": "stream",
     "text": [
      "Val Loss=9.8788, Val Acc=0.00%\n",
      "\n",
      "Epoch 116: Train Loss=0.4333, Train Acc=99.74%\n"
     ]
    },
    {
     "name": "stderr",
     "output_type": "stream",
     "text": [
      " 23%|██▎       | 116/500 [6:40:32<22:06:38, 207.29s/it]"
     ]
    },
    {
     "name": "stdout",
     "output_type": "stream",
     "text": [
      "Val Loss=9.8664, Val Acc=0.00%\n",
      "\n",
      "Epoch 117: Train Loss=0.4317, Train Acc=99.74%\n"
     ]
    },
    {
     "name": "stderr",
     "output_type": "stream",
     "text": [
      " 23%|██▎       | 117/500 [6:43:59<22:02:57, 207.25s/it]"
     ]
    },
    {
     "name": "stdout",
     "output_type": "stream",
     "text": [
      "Val Loss=9.8720, Val Acc=0.00%\n",
      "\n",
      "Epoch 118: Train Loss=0.4301, Train Acc=99.75%\n"
     ]
    },
    {
     "name": "stderr",
     "output_type": "stream",
     "text": [
      " 24%|██▎       | 118/500 [6:47:26<21:58:58, 207.17s/it]"
     ]
    },
    {
     "name": "stdout",
     "output_type": "stream",
     "text": [
      "Val Loss=9.8836, Val Acc=0.00%\n",
      "\n",
      "Epoch 119: Train Loss=0.4284, Train Acc=99.74%\n"
     ]
    },
    {
     "name": "stderr",
     "output_type": "stream",
     "text": [
      " 24%|██▍       | 119/500 [6:50:53<21:55:06, 207.10s/it]"
     ]
    },
    {
     "name": "stdout",
     "output_type": "stream",
     "text": [
      "Val Loss=9.8763, Val Acc=0.00%\n",
      "\n",
      "Epoch 120: Train Loss=0.4266, Train Acc=99.74%\n"
     ]
    },
    {
     "name": "stderr",
     "output_type": "stream",
     "text": [
      " 24%|██▍       | 120/500 [6:54:20<21:51:18, 207.05s/it]"
     ]
    },
    {
     "name": "stdout",
     "output_type": "stream",
     "text": [
      "Val Loss=9.8562, Val Acc=0.00%\n",
      "\n",
      "Epoch 121: Train Loss=0.4251, Train Acc=99.75%\n"
     ]
    },
    {
     "name": "stderr",
     "output_type": "stream",
     "text": [
      " 24%|██▍       | 121/500 [6:57:47<21:48:30, 207.15s/it]"
     ]
    },
    {
     "name": "stdout",
     "output_type": "stream",
     "text": [
      "Val Loss=9.8504, Val Acc=0.00%\n",
      "\n",
      "Epoch 122: Train Loss=0.4231, Train Acc=99.75%\n"
     ]
    },
    {
     "name": "stderr",
     "output_type": "stream",
     "text": [
      " 24%|██▍       | 122/500 [7:01:14<21:44:17, 207.03s/it]"
     ]
    },
    {
     "name": "stdout",
     "output_type": "stream",
     "text": [
      "Val Loss=9.8771, Val Acc=0.00%\n",
      "\n",
      "Epoch 123: Train Loss=0.4218, Train Acc=99.76%\n"
     ]
    },
    {
     "name": "stderr",
     "output_type": "stream",
     "text": [
      " 25%|██▍       | 123/500 [7:04:41<21:40:49, 207.03s/it]"
     ]
    },
    {
     "name": "stdout",
     "output_type": "stream",
     "text": [
      "Val Loss=9.8509, Val Acc=0.00%\n",
      "\n",
      "Epoch 124: Train Loss=0.4204, Train Acc=99.75%\n"
     ]
    },
    {
     "name": "stderr",
     "output_type": "stream",
     "text": [
      " 25%|██▍       | 124/500 [7:08:08<21:37:45, 207.09s/it]"
     ]
    },
    {
     "name": "stdout",
     "output_type": "stream",
     "text": [
      "Val Loss=9.8709, Val Acc=0.00%\n",
      "\n",
      "Epoch 125: Train Loss=0.4184, Train Acc=99.76%\n"
     ]
    },
    {
     "name": "stderr",
     "output_type": "stream",
     "text": [
      " 25%|██▌       | 125/500 [7:11:35<21:34:19, 207.09s/it]"
     ]
    },
    {
     "name": "stdout",
     "output_type": "stream",
     "text": [
      "Val Loss=9.8594, Val Acc=0.00%\n",
      "\n",
      "Epoch 126: Train Loss=0.4172, Train Acc=99.75%\n"
     ]
    },
    {
     "name": "stderr",
     "output_type": "stream",
     "text": [
      " 25%|██▌       | 126/500 [7:15:02<21:30:53, 207.10s/it]"
     ]
    },
    {
     "name": "stdout",
     "output_type": "stream",
     "text": [
      "Val Loss=9.8440, Val Acc=0.00%\n",
      "\n",
      "Epoch 127: Train Loss=0.4155, Train Acc=99.75%\n"
     ]
    },
    {
     "name": "stderr",
     "output_type": "stream",
     "text": [
      " 25%|██▌       | 127/500 [7:18:30<21:29:35, 207.44s/it]"
     ]
    },
    {
     "name": "stdout",
     "output_type": "stream",
     "text": [
      "Val Loss=9.8852, Val Acc=0.00%\n",
      "\n",
      "Epoch 128: Train Loss=0.4143, Train Acc=99.76%\n"
     ]
    },
    {
     "name": "stderr",
     "output_type": "stream",
     "text": [
      " 26%|██▌       | 128/500 [7:21:58<21:25:40, 207.37s/it]"
     ]
    },
    {
     "name": "stdout",
     "output_type": "stream",
     "text": [
      "Val Loss=9.8538, Val Acc=0.00%\n",
      "\n",
      "Epoch 129: Train Loss=0.4125, Train Acc=99.75%\n"
     ]
    },
    {
     "name": "stderr",
     "output_type": "stream",
     "text": [
      " 26%|██▌       | 129/500 [7:25:25<21:21:45, 207.29s/it]"
     ]
    },
    {
     "name": "stdout",
     "output_type": "stream",
     "text": [
      "Val Loss=9.8385, Val Acc=0.00%\n",
      "\n",
      "Epoch 130: Train Loss=0.4112, Train Acc=99.77%\n"
     ]
    },
    {
     "name": "stderr",
     "output_type": "stream",
     "text": [
      " 26%|██▌       | 130/500 [7:28:52<21:17:38, 207.19s/it]"
     ]
    },
    {
     "name": "stdout",
     "output_type": "stream",
     "text": [
      "Val Loss=9.8471, Val Acc=0.00%\n",
      "\n",
      "Epoch 131: Train Loss=0.4099, Train Acc=99.76%\n"
     ]
    },
    {
     "name": "stderr",
     "output_type": "stream",
     "text": [
      " 26%|██▌       | 131/500 [7:32:19<21:13:58, 207.15s/it]"
     ]
    },
    {
     "name": "stdout",
     "output_type": "stream",
     "text": [
      "Val Loss=9.8634, Val Acc=0.00%\n",
      "\n",
      "Epoch 132: Train Loss=0.4081, Train Acc=99.75%\n"
     ]
    },
    {
     "name": "stderr",
     "output_type": "stream",
     "text": [
      " 26%|██▋       | 132/500 [7:35:46<21:10:36, 207.16s/it]"
     ]
    },
    {
     "name": "stdout",
     "output_type": "stream",
     "text": [
      "Val Loss=9.8283, Val Acc=0.00%\n",
      "\n",
      "Epoch 133: Train Loss=0.4068, Train Acc=99.75%\n"
     ]
    },
    {
     "name": "stderr",
     "output_type": "stream",
     "text": [
      " 27%|██▋       | 133/500 [7:39:13<21:07:15, 207.18s/it]"
     ]
    },
    {
     "name": "stdout",
     "output_type": "stream",
     "text": [
      "Val Loss=9.8700, Val Acc=0.00%\n",
      "\n",
      "Epoch 134: Train Loss=0.4055, Train Acc=99.77%\n"
     ]
    },
    {
     "name": "stderr",
     "output_type": "stream",
     "text": [
      " 27%|██▋       | 134/500 [7:42:40<21:03:38, 207.15s/it]"
     ]
    },
    {
     "name": "stdout",
     "output_type": "stream",
     "text": [
      "Val Loss=9.8273, Val Acc=0.00%\n",
      "\n",
      "Epoch 135: Train Loss=0.4043, Train Acc=99.77%\n"
     ]
    },
    {
     "name": "stderr",
     "output_type": "stream",
     "text": [
      " 27%|██▋       | 135/500 [7:46:08<21:00:16, 207.17s/it]"
     ]
    },
    {
     "name": "stdout",
     "output_type": "stream",
     "text": [
      "Val Loss=9.8516, Val Acc=0.00%\n",
      "\n",
      "Epoch 136: Train Loss=0.4035, Train Acc=99.76%\n"
     ]
    },
    {
     "name": "stderr",
     "output_type": "stream",
     "text": [
      " 27%|██▋       | 136/500 [7:49:35<20:56:48, 207.17s/it]"
     ]
    },
    {
     "name": "stdout",
     "output_type": "stream",
     "text": [
      "Val Loss=9.8687, Val Acc=0.00%\n",
      "\n",
      "Epoch 137: Train Loss=0.4014, Train Acc=99.76%\n"
     ]
    },
    {
     "name": "stderr",
     "output_type": "stream",
     "text": [
      " 27%|██▋       | 137/500 [7:53:02<20:53:14, 207.15s/it]"
     ]
    },
    {
     "name": "stdout",
     "output_type": "stream",
     "text": [
      "Val Loss=9.8514, Val Acc=0.00%\n",
      "\n",
      "Epoch 138: Train Loss=0.4003, Train Acc=99.77%\n"
     ]
    },
    {
     "name": "stderr",
     "output_type": "stream",
     "text": [
      " 28%|██▊       | 138/500 [7:56:29<20:49:30, 207.10s/it]"
     ]
    },
    {
     "name": "stdout",
     "output_type": "stream",
     "text": [
      "Val Loss=9.8164, Val Acc=0.00%\n",
      "\n",
      "Epoch 139: Train Loss=0.3990, Train Acc=99.77%\n"
     ]
    },
    {
     "name": "stderr",
     "output_type": "stream",
     "text": [
      " 28%|██▊       | 139/500 [7:59:56<20:46:56, 207.25s/it]"
     ]
    },
    {
     "name": "stdout",
     "output_type": "stream",
     "text": [
      "Val Loss=9.8524, Val Acc=0.00%\n",
      "\n",
      "Epoch 140: Train Loss=0.3980, Train Acc=99.79%\n"
     ]
    },
    {
     "name": "stderr",
     "output_type": "stream",
     "text": [
      " 28%|██▊       | 140/500 [8:03:23<20:42:56, 207.16s/it]"
     ]
    },
    {
     "name": "stdout",
     "output_type": "stream",
     "text": [
      "Val Loss=9.8444, Val Acc=0.00%\n",
      "\n",
      "Epoch 141: Train Loss=0.3968, Train Acc=99.77%\n"
     ]
    },
    {
     "name": "stderr",
     "output_type": "stream",
     "text": [
      " 28%|██▊       | 141/500 [8:06:50<20:38:48, 207.04s/it]"
     ]
    },
    {
     "name": "stdout",
     "output_type": "stream",
     "text": [
      "Val Loss=9.8586, Val Acc=0.00%\n",
      "\n",
      "Epoch 142: Train Loss=0.3957, Train Acc=99.76%\n"
     ]
    },
    {
     "name": "stderr",
     "output_type": "stream",
     "text": [
      " 28%|██▊       | 142/500 [8:10:17<20:35:25, 207.05s/it]"
     ]
    },
    {
     "name": "stdout",
     "output_type": "stream",
     "text": [
      "Val Loss=9.8580, Val Acc=0.00%\n",
      "\n",
      "Epoch 143: Train Loss=0.3942, Train Acc=99.76%\n"
     ]
    },
    {
     "name": "stderr",
     "output_type": "stream",
     "text": [
      " 29%|██▊       | 143/500 [8:13:44<20:31:58, 207.06s/it]"
     ]
    },
    {
     "name": "stdout",
     "output_type": "stream",
     "text": [
      "Val Loss=9.8465, Val Acc=0.00%\n",
      "\n",
      "Epoch 144: Train Loss=0.3929, Train Acc=99.79%\n"
     ]
    },
    {
     "name": "stderr",
     "output_type": "stream",
     "text": [
      " 29%|██▉       | 144/500 [8:17:11<20:28:13, 207.01s/it]"
     ]
    },
    {
     "name": "stdout",
     "output_type": "stream",
     "text": [
      "Val Loss=9.8288, Val Acc=0.00%\n",
      "\n",
      "Epoch 145: Train Loss=0.3919, Train Acc=99.78%\n"
     ]
    },
    {
     "name": "stderr",
     "output_type": "stream",
     "text": [
      " 29%|██▉       | 145/500 [8:20:39<20:26:56, 207.37s/it]"
     ]
    },
    {
     "name": "stdout",
     "output_type": "stream",
     "text": [
      "Val Loss=9.8327, Val Acc=0.00%\n",
      "\n",
      "Epoch 146: Train Loss=0.3909, Train Acc=99.78%\n"
     ]
    },
    {
     "name": "stderr",
     "output_type": "stream",
     "text": [
      " 29%|██▉       | 146/500 [8:24:06<20:22:41, 207.24s/it]"
     ]
    },
    {
     "name": "stdout",
     "output_type": "stream",
     "text": [
      "Val Loss=9.8264, Val Acc=0.00%\n",
      "\n",
      "Epoch 147: Train Loss=0.3899, Train Acc=99.77%\n"
     ]
    },
    {
     "name": "stderr",
     "output_type": "stream",
     "text": [
      " 29%|██▉       | 147/500 [8:27:34<20:19:21, 207.26s/it]"
     ]
    },
    {
     "name": "stdout",
     "output_type": "stream",
     "text": [
      "Val Loss=9.8228, Val Acc=0.00%\n",
      "\n",
      "Epoch 148: Train Loss=0.3887, Train Acc=99.79%\n"
     ]
    },
    {
     "name": "stderr",
     "output_type": "stream",
     "text": [
      " 30%|██▉       | 148/500 [8:31:00<20:15:12, 207.14s/it]"
     ]
    },
    {
     "name": "stdout",
     "output_type": "stream",
     "text": [
      "Val Loss=9.8762, Val Acc=0.00%\n",
      "\n",
      "Epoch 149: Train Loss=0.3876, Train Acc=99.78%\n"
     ]
    },
    {
     "name": "stderr",
     "output_type": "stream",
     "text": [
      " 30%|██▉       | 149/500 [8:34:28<20:11:40, 207.12s/it]"
     ]
    },
    {
     "name": "stdout",
     "output_type": "stream",
     "text": [
      "Val Loss=9.8388, Val Acc=0.00%\n",
      "\n",
      "Epoch 150: Train Loss=0.3866, Train Acc=99.77%\n"
     ]
    },
    {
     "name": "stderr",
     "output_type": "stream",
     "text": [
      " 30%|███       | 150/500 [8:37:55<20:08:04, 207.10s/it]"
     ]
    },
    {
     "name": "stdout",
     "output_type": "stream",
     "text": [
      "Val Loss=9.8367, Val Acc=0.00%\n",
      "\n",
      "Epoch 151: Train Loss=0.3852, Train Acc=99.78%\n"
     ]
    },
    {
     "name": "stderr",
     "output_type": "stream",
     "text": [
      " 30%|███       | 151/500 [8:41:22<20:05:03, 207.17s/it]"
     ]
    },
    {
     "name": "stdout",
     "output_type": "stream",
     "text": [
      "Val Loss=9.8311, Val Acc=0.00%\n",
      "\n",
      "Epoch 152: Train Loss=0.3844, Train Acc=99.79%\n"
     ]
    },
    {
     "name": "stderr",
     "output_type": "stream",
     "text": [
      " 30%|███       | 152/500 [8:44:49<20:01:18, 207.12s/it]"
     ]
    },
    {
     "name": "stdout",
     "output_type": "stream",
     "text": [
      "Val Loss=9.8314, Val Acc=0.00%\n",
      "\n",
      "Epoch 153: Train Loss=0.3834, Train Acc=99.78%\n"
     ]
    },
    {
     "name": "stderr",
     "output_type": "stream",
     "text": [
      " 31%|███       | 153/500 [8:48:16<19:57:19, 207.03s/it]"
     ]
    },
    {
     "name": "stdout",
     "output_type": "stream",
     "text": [
      "Val Loss=9.8222, Val Acc=0.00%\n",
      "\n",
      "Epoch 154: Train Loss=0.3826, Train Acc=99.77%\n"
     ]
    },
    {
     "name": "stderr",
     "output_type": "stream",
     "text": [
      " 31%|███       | 154/500 [8:51:43<19:53:54, 207.04s/it]"
     ]
    },
    {
     "name": "stdout",
     "output_type": "stream",
     "text": [
      "Val Loss=9.8436, Val Acc=0.00%\n",
      "\n",
      "Epoch 155: Train Loss=0.3812, Train Acc=99.79%\n"
     ]
    },
    {
     "name": "stderr",
     "output_type": "stream",
     "text": [
      " 31%|███       | 155/500 [8:55:10<19:50:00, 206.96s/it]"
     ]
    },
    {
     "name": "stdout",
     "output_type": "stream",
     "text": [
      "Val Loss=9.8321, Val Acc=0.00%\n",
      "\n",
      "Epoch 156: Train Loss=0.3804, Train Acc=99.78%\n"
     ]
    },
    {
     "name": "stderr",
     "output_type": "stream",
     "text": [
      " 31%|███       | 156/500 [8:58:36<19:46:31, 206.95s/it]"
     ]
    },
    {
     "name": "stdout",
     "output_type": "stream",
     "text": [
      "Val Loss=9.8209, Val Acc=0.00%\n",
      "\n",
      "Epoch 157: Train Loss=0.3795, Train Acc=99.78%\n"
     ]
    },
    {
     "name": "stderr",
     "output_type": "stream",
     "text": [
      " 31%|███▏      | 157/500 [9:02:03<19:42:55, 206.92s/it]"
     ]
    },
    {
     "name": "stdout",
     "output_type": "stream",
     "text": [
      "Val Loss=9.8306, Val Acc=0.00%\n",
      "\n",
      "Epoch 158: Train Loss=0.3779, Train Acc=99.80%\n"
     ]
    },
    {
     "name": "stderr",
     "output_type": "stream",
     "text": [
      " 32%|███▏      | 158/500 [9:05:30<19:39:38, 206.95s/it]"
     ]
    },
    {
     "name": "stdout",
     "output_type": "stream",
     "text": [
      "Val Loss=9.8543, Val Acc=0.00%\n",
      "\n",
      "Epoch 159: Train Loss=0.3778, Train Acc=99.79%\n"
     ]
    },
    {
     "name": "stderr",
     "output_type": "stream",
     "text": [
      " 32%|███▏      | 159/500 [9:08:58<19:36:39, 207.04s/it]"
     ]
    },
    {
     "name": "stdout",
     "output_type": "stream",
     "text": [
      "Val Loss=9.8215, Val Acc=0.00%\n",
      "\n",
      "Epoch 160: Train Loss=0.3766, Train Acc=99.79%\n"
     ]
    },
    {
     "name": "stderr",
     "output_type": "stream",
     "text": [
      " 32%|███▏      | 160/500 [9:12:25<19:33:12, 207.04s/it]"
     ]
    },
    {
     "name": "stdout",
     "output_type": "stream",
     "text": [
      "Val Loss=9.8184, Val Acc=0.00%\n",
      "\n",
      "Epoch 161: Train Loss=0.3754, Train Acc=99.79%\n"
     ]
    },
    {
     "name": "stderr",
     "output_type": "stream",
     "text": [
      " 32%|███▏      | 161/500 [9:15:52<19:29:47, 207.04s/it]"
     ]
    },
    {
     "name": "stdout",
     "output_type": "stream",
     "text": [
      "Val Loss=9.8396, Val Acc=0.00%\n",
      "\n",
      "Epoch 162: Train Loss=0.3751, Train Acc=99.80%\n"
     ]
    },
    {
     "name": "stderr",
     "output_type": "stream",
     "text": [
      " 32%|███▏      | 162/500 [9:19:19<19:26:08, 207.01s/it]"
     ]
    },
    {
     "name": "stdout",
     "output_type": "stream",
     "text": [
      "Val Loss=9.8296, Val Acc=0.00%\n",
      "\n",
      "Epoch 163: Train Loss=0.3739, Train Acc=99.79%\n"
     ]
    },
    {
     "name": "stderr",
     "output_type": "stream",
     "text": [
      " 33%|███▎      | 163/500 [9:22:46<19:23:02, 207.07s/it]"
     ]
    },
    {
     "name": "stdout",
     "output_type": "stream",
     "text": [
      "Val Loss=9.8303, Val Acc=0.00%\n",
      "\n",
      "Epoch 164: Train Loss=0.3729, Train Acc=99.80%\n"
     ]
    },
    {
     "name": "stderr",
     "output_type": "stream",
     "text": [
      " 33%|███▎      | 164/500 [9:26:13<19:19:09, 206.99s/it]"
     ]
    },
    {
     "name": "stdout",
     "output_type": "stream",
     "text": [
      "Val Loss=9.8293, Val Acc=0.00%\n",
      "\n",
      "Epoch 165: Train Loss=0.3719, Train Acc=99.80%\n"
     ]
    },
    {
     "name": "stderr",
     "output_type": "stream",
     "text": [
      " 33%|███▎      | 165/500 [9:29:40<19:16:09, 207.07s/it]"
     ]
    },
    {
     "name": "stdout",
     "output_type": "stream",
     "text": [
      "Val Loss=9.8266, Val Acc=0.00%\n",
      "\n",
      "Epoch 166: Train Loss=0.3710, Train Acc=99.80%\n"
     ]
    },
    {
     "name": "stderr",
     "output_type": "stream",
     "text": [
      " 33%|███▎      | 166/500 [9:33:07<19:12:32, 207.04s/it]"
     ]
    },
    {
     "name": "stdout",
     "output_type": "stream",
     "text": [
      "Val Loss=9.7839, Val Acc=0.00%\n",
      "\n",
      "Epoch 167: Train Loss=0.3703, Train Acc=99.81%\n"
     ]
    },
    {
     "name": "stderr",
     "output_type": "stream",
     "text": [
      " 33%|███▎      | 167/500 [9:36:34<19:08:34, 206.95s/it]"
     ]
    },
    {
     "name": "stdout",
     "output_type": "stream",
     "text": [
      "Val Loss=9.8268, Val Acc=0.00%\n",
      "\n",
      "Epoch 168: Train Loss=0.3696, Train Acc=99.80%\n"
     ]
    },
    {
     "name": "stderr",
     "output_type": "stream",
     "text": [
      " 34%|███▎      | 168/500 [9:40:01<19:05:06, 206.95s/it]"
     ]
    },
    {
     "name": "stdout",
     "output_type": "stream",
     "text": [
      "Val Loss=9.7912, Val Acc=0.00%\n",
      "\n",
      "Epoch 169: Train Loss=0.3686, Train Acc=99.81%\n"
     ]
    },
    {
     "name": "stderr",
     "output_type": "stream",
     "text": [
      " 34%|███▍      | 169/500 [9:43:36<19:15:03, 209.38s/it]"
     ]
    },
    {
     "name": "stdout",
     "output_type": "stream",
     "text": [
      "Val Loss=9.7934, Val Acc=0.00%\n",
      "\n",
      "Epoch 170: Train Loss=0.3676, Train Acc=99.80%\n"
     ]
    },
    {
     "name": "stderr",
     "output_type": "stream",
     "text": [
      " 34%|███▍      | 170/500 [9:47:09<19:18:29, 210.64s/it]"
     ]
    },
    {
     "name": "stdout",
     "output_type": "stream",
     "text": [
      "Val Loss=9.8143, Val Acc=0.00%\n",
      "\n",
      "Epoch 171: Train Loss=0.3673, Train Acc=99.79%\n"
     ]
    },
    {
     "name": "stderr",
     "output_type": "stream",
     "text": [
      " 34%|███▍      | 171/500 [9:50:36<19:08:59, 209.54s/it]"
     ]
    },
    {
     "name": "stdout",
     "output_type": "stream",
     "text": [
      "Val Loss=9.8247, Val Acc=0.00%\n",
      "\n",
      "Epoch 172: Train Loss=0.3662, Train Acc=99.79%\n"
     ]
    },
    {
     "name": "stderr",
     "output_type": "stream",
     "text": [
      " 34%|███▍      | 172/500 [9:54:03<19:00:56, 208.71s/it]"
     ]
    },
    {
     "name": "stdout",
     "output_type": "stream",
     "text": [
      "Val Loss=9.8285, Val Acc=0.00%\n",
      "\n",
      "Epoch 173: Train Loss=0.3653, Train Acc=99.81%\n"
     ]
    },
    {
     "name": "stderr",
     "output_type": "stream",
     "text": [
      " 35%|███▍      | 173/500 [9:57:30<18:54:22, 208.14s/it]"
     ]
    },
    {
     "name": "stdout",
     "output_type": "stream",
     "text": [
      "Val Loss=9.8232, Val Acc=0.00%\n",
      "\n",
      "Epoch 174: Train Loss=0.3641, Train Acc=99.81%\n"
     ]
    },
    {
     "name": "stderr",
     "output_type": "stream",
     "text": [
      " 35%|███▍      | 174/500 [10:00:56<18:48:28, 207.69s/it]"
     ]
    },
    {
     "name": "stdout",
     "output_type": "stream",
     "text": [
      "Val Loss=9.8166, Val Acc=0.00%\n",
      "\n",
      "Epoch 175: Train Loss=0.3636, Train Acc=99.81%\n"
     ]
    },
    {
     "name": "stderr",
     "output_type": "stream",
     "text": [
      " 35%|███▌      | 175/500 [10:04:23<18:44:03, 207.52s/it]"
     ]
    },
    {
     "name": "stdout",
     "output_type": "stream",
     "text": [
      "Val Loss=9.8072, Val Acc=0.00%\n",
      "\n",
      "Epoch 176: Train Loss=0.3630, Train Acc=99.80%\n"
     ]
    },
    {
     "name": "stderr",
     "output_type": "stream",
     "text": [
      " 35%|███▌      | 176/500 [10:07:50<18:39:39, 207.34s/it]"
     ]
    },
    {
     "name": "stdout",
     "output_type": "stream",
     "text": [
      "Val Loss=9.8281, Val Acc=0.00%\n",
      "\n",
      "Epoch 177: Train Loss=0.3621, Train Acc=99.81%\n"
     ]
    },
    {
     "name": "stderr",
     "output_type": "stream",
     "text": [
      " 35%|███▌      | 177/500 [10:11:17<18:35:02, 207.13s/it]"
     ]
    },
    {
     "name": "stdout",
     "output_type": "stream",
     "text": [
      "Val Loss=9.8130, Val Acc=0.00%\n",
      "\n",
      "Epoch 178: Train Loss=0.3615, Train Acc=99.82%\n"
     ]
    },
    {
     "name": "stderr",
     "output_type": "stream",
     "text": [
      " 36%|███▌      | 178/500 [10:14:44<18:31:12, 207.06s/it]"
     ]
    },
    {
     "name": "stdout",
     "output_type": "stream",
     "text": [
      "Val Loss=9.8198, Val Acc=0.00%\n",
      "\n",
      "Epoch 179: Train Loss=0.3607, Train Acc=99.81%\n"
     ]
    },
    {
     "name": "stderr",
     "output_type": "stream",
     "text": [
      " 36%|███▌      | 179/500 [10:18:11<18:27:16, 206.97s/it]"
     ]
    },
    {
     "name": "stdout",
     "output_type": "stream",
     "text": [
      "Val Loss=9.8209, Val Acc=0.00%\n",
      "\n",
      "Epoch 180: Train Loss=0.3603, Train Acc=99.81%\n"
     ]
    },
    {
     "name": "stderr",
     "output_type": "stream",
     "text": [
      " 36%|███▌      | 180/500 [10:21:38<18:23:56, 206.99s/it]"
     ]
    },
    {
     "name": "stdout",
     "output_type": "stream",
     "text": [
      "Val Loss=9.8196, Val Acc=0.00%\n",
      "\n",
      "Epoch 181: Train Loss=0.3595, Train Acc=99.81%\n"
     ]
    },
    {
     "name": "stderr",
     "output_type": "stream",
     "text": [
      " 36%|███▌      | 181/500 [10:25:04<18:19:14, 206.75s/it]"
     ]
    },
    {
     "name": "stdout",
     "output_type": "stream",
     "text": [
      "Val Loss=9.8197, Val Acc=0.00%\n",
      "\n",
      "Epoch 182: Train Loss=0.3586, Train Acc=99.82%\n"
     ]
    },
    {
     "name": "stderr",
     "output_type": "stream",
     "text": [
      " 36%|███▋      | 182/500 [10:28:30<18:14:48, 206.57s/it]"
     ]
    },
    {
     "name": "stdout",
     "output_type": "stream",
     "text": [
      "Val Loss=9.8296, Val Acc=0.00%\n",
      "\n",
      "Epoch 183: Train Loss=0.3577, Train Acc=99.82%\n"
     ]
    },
    {
     "name": "stderr",
     "output_type": "stream",
     "text": [
      " 37%|███▋      | 183/500 [10:31:56<18:10:20, 206.37s/it]"
     ]
    },
    {
     "name": "stdout",
     "output_type": "stream",
     "text": [
      "Val Loss=9.8512, Val Acc=0.00%\n",
      "\n",
      "Epoch 184: Train Loss=0.3570, Train Acc=99.82%\n"
     ]
    },
    {
     "name": "stderr",
     "output_type": "stream",
     "text": [
      " 37%|███▋      | 184/500 [10:35:23<18:08:10, 206.62s/it]"
     ]
    },
    {
     "name": "stdout",
     "output_type": "stream",
     "text": [
      "Val Loss=9.8304, Val Acc=0.00%\n",
      "\n",
      "Epoch 185: Train Loss=0.3563, Train Acc=99.81%\n"
     ]
    },
    {
     "name": "stderr",
     "output_type": "stream",
     "text": [
      " 37%|███▋      | 185/500 [10:38:50<18:05:13, 206.71s/it]"
     ]
    },
    {
     "name": "stdout",
     "output_type": "stream",
     "text": [
      "Val Loss=9.8065, Val Acc=0.00%\n",
      "\n",
      "Epoch 186: Train Loss=0.3556, Train Acc=99.81%\n"
     ]
    },
    {
     "name": "stderr",
     "output_type": "stream",
     "text": [
      " 37%|███▋      | 186/500 [10:42:17<18:02:04, 206.77s/it]"
     ]
    },
    {
     "name": "stdout",
     "output_type": "stream",
     "text": [
      "Val Loss=9.8155, Val Acc=0.00%\n",
      "\n",
      "Epoch 187: Train Loss=0.3552, Train Acc=99.82%\n"
     ]
    },
    {
     "name": "stderr",
     "output_type": "stream",
     "text": [
      " 37%|███▋      | 187/500 [10:45:44<17:59:23, 206.91s/it]"
     ]
    },
    {
     "name": "stdout",
     "output_type": "stream",
     "text": [
      "Val Loss=9.8383, Val Acc=0.00%\n",
      "\n",
      "Epoch 188: Train Loss=0.3544, Train Acc=99.82%\n"
     ]
    },
    {
     "name": "stderr",
     "output_type": "stream",
     "text": [
      " 38%|███▊      | 188/500 [10:49:11<17:55:41, 206.86s/it]"
     ]
    },
    {
     "name": "stdout",
     "output_type": "stream",
     "text": [
      "Val Loss=9.8100, Val Acc=0.00%\n",
      "\n",
      "Epoch 189: Train Loss=0.3541, Train Acc=99.82%\n"
     ]
    },
    {
     "name": "stderr",
     "output_type": "stream",
     "text": [
      " 38%|███▊      | 189/500 [10:52:38<17:52:15, 206.87s/it]"
     ]
    },
    {
     "name": "stdout",
     "output_type": "stream",
     "text": [
      "Val Loss=9.8087, Val Acc=0.00%\n",
      "\n",
      "Epoch 190: Train Loss=0.3526, Train Acc=99.82%\n"
     ]
    },
    {
     "name": "stderr",
     "output_type": "stream",
     "text": [
      " 38%|███▊      | 190/500 [10:56:05<17:48:46, 206.86s/it]"
     ]
    },
    {
     "name": "stdout",
     "output_type": "stream",
     "text": [
      "Val Loss=9.8239, Val Acc=0.00%\n",
      "\n",
      "Epoch 191: Train Loss=0.3521, Train Acc=99.82%\n"
     ]
    },
    {
     "name": "stderr",
     "output_type": "stream",
     "text": [
      " 38%|███▊      | 191/500 [10:59:32<17:45:34, 206.91s/it]"
     ]
    },
    {
     "name": "stdout",
     "output_type": "stream",
     "text": [
      "Val Loss=9.8064, Val Acc=0.00%\n",
      "\n",
      "Epoch 192: Train Loss=0.3520, Train Acc=99.82%\n"
     ]
    },
    {
     "name": "stderr",
     "output_type": "stream",
     "text": [
      " 38%|███▊      | 192/500 [11:02:59<17:43:17, 207.13s/it]"
     ]
    },
    {
     "name": "stdout",
     "output_type": "stream",
     "text": [
      "Val Loss=9.8018, Val Acc=0.00%\n",
      "\n",
      "Epoch 193: Train Loss=0.3510, Train Acc=99.82%\n"
     ]
    },
    {
     "name": "stderr",
     "output_type": "stream",
     "text": [
      " 39%|███▊      | 193/500 [11:07:20<19:01:34, 223.11s/it]"
     ]
    },
    {
     "name": "stdout",
     "output_type": "stream",
     "text": [
      "Val Loss=9.8229, Val Acc=0.00%\n",
      "\n",
      "Epoch 194: Train Loss=0.3504, Train Acc=99.82%\n"
     ]
    },
    {
     "name": "stderr",
     "output_type": "stream",
     "text": [
      " 39%|███▉      | 194/500 [11:11:56<20:19:41, 239.15s/it]"
     ]
    },
    {
     "name": "stdout",
     "output_type": "stream",
     "text": [
      "Val Loss=9.7873, Val Acc=0.00%\n",
      "\n",
      "Epoch 195: Train Loss=0.3496, Train Acc=99.80%\n"
     ]
    },
    {
     "name": "stderr",
     "output_type": "stream",
     "text": [
      " 39%|███▉      | 195/500 [11:16:44<21:30:04, 253.79s/it]"
     ]
    },
    {
     "name": "stdout",
     "output_type": "stream",
     "text": [
      "Val Loss=9.7984, Val Acc=0.00%\n",
      "\n",
      "Epoch 196: Train Loss=0.3489, Train Acc=99.83%\n"
     ]
    },
    {
     "name": "stderr",
     "output_type": "stream",
     "text": [
      " 39%|███▉      | 196/500 [11:21:09<21:42:39, 257.10s/it]"
     ]
    },
    {
     "name": "stdout",
     "output_type": "stream",
     "text": [
      "Val Loss=9.8027, Val Acc=0.00%\n",
      "\n",
      "Epoch 197: Train Loss=0.3485, Train Acc=99.82%\n"
     ]
    },
    {
     "name": "stderr",
     "output_type": "stream",
     "text": [
      " 39%|███▉      | 197/500 [11:25:24<21:35:04, 256.45s/it]"
     ]
    },
    {
     "name": "stdout",
     "output_type": "stream",
     "text": [
      "Val Loss=9.8186, Val Acc=0.00%\n",
      "\n",
      "Epoch 198: Train Loss=0.3481, Train Acc=99.82%\n"
     ]
    },
    {
     "name": "stderr",
     "output_type": "stream",
     "text": [
      " 40%|███▉      | 198/500 [11:29:36<21:23:59, 255.10s/it]"
     ]
    },
    {
     "name": "stdout",
     "output_type": "stream",
     "text": [
      "Val Loss=9.7992, Val Acc=0.00%\n",
      "\n",
      "Epoch 199: Train Loss=0.3475, Train Acc=99.82%\n"
     ]
    },
    {
     "name": "stderr",
     "output_type": "stream",
     "text": [
      " 40%|███▉      | 199/500 [11:33:48<21:15:43, 254.30s/it]"
     ]
    },
    {
     "name": "stdout",
     "output_type": "stream",
     "text": [
      "Val Loss=9.8240, Val Acc=0.00%\n",
      "\n",
      "Epoch 200: Train Loss=0.3464, Train Acc=99.82%\n"
     ]
    },
    {
     "name": "stderr",
     "output_type": "stream",
     "text": [
      " 40%|████      | 200/500 [11:38:00<21:06:48, 253.36s/it]"
     ]
    },
    {
     "name": "stdout",
     "output_type": "stream",
     "text": [
      "Val Loss=9.8073, Val Acc=0.00%\n",
      "\n",
      "Epoch 201: Train Loss=0.3458, Train Acc=99.83%\n"
     ]
    },
    {
     "name": "stderr",
     "output_type": "stream",
     "text": [
      " 40%|████      | 201/500 [11:42:11<20:59:10, 252.68s/it]"
     ]
    },
    {
     "name": "stdout",
     "output_type": "stream",
     "text": [
      "Val Loss=9.8131, Val Acc=0.00%\n",
      "\n",
      "Epoch 202: Train Loss=0.3452, Train Acc=99.82%\n"
     ]
    },
    {
     "name": "stderr",
     "output_type": "stream",
     "text": [
      " 40%|████      | 202/500 [11:46:23<20:53:57, 252.47s/it]"
     ]
    },
    {
     "name": "stdout",
     "output_type": "stream",
     "text": [
      "Val Loss=9.8096, Val Acc=0.00%\n",
      "\n",
      "Epoch 203: Train Loss=0.3449, Train Acc=99.83%\n"
     ]
    },
    {
     "name": "stderr",
     "output_type": "stream",
     "text": [
      " 41%|████      | 203/500 [11:50:57<21:22:22, 259.07s/it]"
     ]
    },
    {
     "name": "stdout",
     "output_type": "stream",
     "text": [
      "Val Loss=9.8130, Val Acc=0.00%\n",
      "\n",
      "Epoch 204: Train Loss=0.3446, Train Acc=99.82%\n"
     ]
    },
    {
     "name": "stderr",
     "output_type": "stream",
     "text": [
      " 41%|████      | 204/500 [11:55:35<21:45:58, 264.73s/it]"
     ]
    },
    {
     "name": "stdout",
     "output_type": "stream",
     "text": [
      "Val Loss=9.7962, Val Acc=0.00%\n",
      "\n",
      "Epoch 205: Train Loss=0.3439, Train Acc=99.84%\n"
     ]
    },
    {
     "name": "stderr",
     "output_type": "stream",
     "text": [
      " 41%|████      | 205/500 [12:00:13<22:00:57, 268.67s/it]"
     ]
    },
    {
     "name": "stdout",
     "output_type": "stream",
     "text": [
      "Val Loss=9.8017, Val Acc=0.00%\n",
      "\n",
      "Epoch 206: Train Loss=0.3430, Train Acc=99.82%\n"
     ]
    },
    {
     "name": "stderr",
     "output_type": "stream",
     "text": [
      " 41%|████      | 206/500 [12:04:39<21:52:24, 267.84s/it]"
     ]
    },
    {
     "name": "stdout",
     "output_type": "stream",
     "text": [
      "Val Loss=9.7888, Val Acc=0.00%\n",
      "\n",
      "Epoch 207: Train Loss=0.3423, Train Acc=99.84%\n"
     ]
    },
    {
     "name": "stderr",
     "output_type": "stream",
     "text": [
      " 41%|████▏     | 207/500 [12:09:20<22:07:35, 271.86s/it]"
     ]
    },
    {
     "name": "stdout",
     "output_type": "stream",
     "text": [
      "Val Loss=9.8127, Val Acc=0.00%\n",
      "\n",
      "Epoch 208: Train Loss=0.3422, Train Acc=99.83%\n"
     ]
    },
    {
     "name": "stderr",
     "output_type": "stream",
     "text": [
      " 42%|████▏     | 208/500 [12:13:51<22:02:17, 271.70s/it]"
     ]
    },
    {
     "name": "stdout",
     "output_type": "stream",
     "text": [
      "Val Loss=9.8032, Val Acc=0.00%\n",
      "\n",
      "Epoch 209: Train Loss=0.3416, Train Acc=99.82%\n"
     ]
    },
    {
     "name": "stderr",
     "output_type": "stream",
     "text": [
      " 42%|████▏     | 209/500 [12:18:22<21:56:18, 271.40s/it]"
     ]
    },
    {
     "name": "stdout",
     "output_type": "stream",
     "text": [
      "Val Loss=9.8088, Val Acc=0.00%\n",
      "\n",
      "Epoch 210: Train Loss=0.3409, Train Acc=99.83%\n"
     ]
    },
    {
     "name": "stderr",
     "output_type": "stream",
     "text": [
      " 42%|████▏     | 210/500 [12:23:26<22:38:53, 281.15s/it]"
     ]
    },
    {
     "name": "stdout",
     "output_type": "stream",
     "text": [
      "Val Loss=9.8189, Val Acc=0.00%\n",
      "\n",
      "Epoch 211: Train Loss=0.3403, Train Acc=99.84%\n"
     ]
    },
    {
     "name": "stderr",
     "output_type": "stream",
     "text": [
      " 42%|████▏     | 211/500 [12:27:47<22:04:54, 275.07s/it]"
     ]
    },
    {
     "name": "stdout",
     "output_type": "stream",
     "text": [
      "Val Loss=9.7864, Val Acc=0.00%\n",
      "\n",
      "Epoch 212: Train Loss=0.3399, Train Acc=99.83%\n"
     ]
    },
    {
     "name": "stderr",
     "output_type": "stream",
     "text": [
      " 42%|████▏     | 212/500 [12:32:23<22:02:16, 275.47s/it]"
     ]
    },
    {
     "name": "stdout",
     "output_type": "stream",
     "text": [
      "Val Loss=9.8079, Val Acc=0.00%\n",
      "\n",
      "Epoch 213: Train Loss=0.3390, Train Acc=99.83%\n"
     ]
    },
    {
     "name": "stderr",
     "output_type": "stream",
     "text": [
      " 43%|████▎     | 213/500 [12:37:10<22:14:08, 278.92s/it]"
     ]
    },
    {
     "name": "stdout",
     "output_type": "stream",
     "text": [
      "Val Loss=9.8358, Val Acc=0.00%\n",
      "\n",
      "Epoch 214: Train Loss=0.3390, Train Acc=99.83%\n"
     ]
    },
    {
     "name": "stderr",
     "output_type": "stream",
     "text": [
      " 43%|████▎     | 214/500 [12:41:59<22:23:43, 281.90s/it]"
     ]
    },
    {
     "name": "stdout",
     "output_type": "stream",
     "text": [
      "Val Loss=9.7924, Val Acc=0.00%\n",
      "\n",
      "Epoch 215: Train Loss=0.3380, Train Acc=99.84%\n"
     ]
    },
    {
     "name": "stderr",
     "output_type": "stream",
     "text": [
      " 43%|████▎     | 215/500 [12:46:50<22:31:05, 284.44s/it]"
     ]
    },
    {
     "name": "stdout",
     "output_type": "stream",
     "text": [
      "Val Loss=9.7923, Val Acc=0.00%\n",
      "\n"
     ]
    },
    {
     "name": "stderr",
     "output_type": "stream",
     "text": [
      " 43%|████▎     | 215/500 [12:50:50<17:01:48, 215.12s/it]\n"
     ]
    },
    {
     "ename": "KeyboardInterrupt",
     "evalue": "",
     "output_type": "error",
     "traceback": [
      "\u001b[31m---------------------------------------------------------------------------\u001b[39m",
      "\u001b[31mKeyboardInterrupt\u001b[39m                         Traceback (most recent call last)",
      "\u001b[36mCell\u001b[39m\u001b[36m \u001b[39m\u001b[32mIn[15]\u001b[39m\u001b[32m, line 21\u001b[39m\n\u001b[32m     18\u001b[39m labels = labels.cuda()\n\u001b[32m     20\u001b[39m \u001b[38;5;28;01mwith\u001b[39;00m torch.no_grad():\n\u001b[32m---> \u001b[39m\u001b[32m21\u001b[39m     teacher_logits, teacher_feats = \u001b[43mteacher_model\u001b[49m\u001b[43m(\u001b[49m\u001b[43mimg_teacher\u001b[49m\u001b[43m)\u001b[49m\n\u001b[32m     23\u001b[39m student_logits, student_feats, _ = student_model(img_student)\n\u001b[32m     25\u001b[39m \u001b[38;5;66;03m# print(f\"Label range: min={labels.min().item()}, max={labels.max().item()}\")\u001b[39;00m\n\u001b[32m     26\u001b[39m \u001b[38;5;66;03m# print(f\"Student logits shape: {student_logits.shape}\")\u001b[39;00m\n\u001b[32m     27\u001b[39m \n\u001b[32m     28\u001b[39m \u001b[38;5;66;03m#print(f\"Teacher logits shape: {teacher_logits.shape}\")\u001b[39;00m\n\u001b[32m     29\u001b[39m \u001b[38;5;66;03m#print(f\"Student labels shape: {labels.shape}\")\u001b[39;00m\n",
      "\u001b[36mFile \u001b[39m\u001b[32mc:\\Users\\Public\\anaconda3\\envs\\YOUCEF_OUADJER_ENV\\Lib\\site-packages\\torch\\nn\\modules\\module.py:1739\u001b[39m, in \u001b[36mModule._wrapped_call_impl\u001b[39m\u001b[34m(self, *args, **kwargs)\u001b[39m\n\u001b[32m   1737\u001b[39m     \u001b[38;5;28;01mreturn\u001b[39;00m \u001b[38;5;28mself\u001b[39m._compiled_call_impl(*args, **kwargs)  \u001b[38;5;66;03m# type: ignore[misc]\u001b[39;00m\n\u001b[32m   1738\u001b[39m \u001b[38;5;28;01melse\u001b[39;00m:\n\u001b[32m-> \u001b[39m\u001b[32m1739\u001b[39m     \u001b[38;5;28;01mreturn\u001b[39;00m \u001b[38;5;28;43mself\u001b[39;49m\u001b[43m.\u001b[49m\u001b[43m_call_impl\u001b[49m\u001b[43m(\u001b[49m\u001b[43m*\u001b[49m\u001b[43margs\u001b[49m\u001b[43m,\u001b[49m\u001b[43m \u001b[49m\u001b[43m*\u001b[49m\u001b[43m*\u001b[49m\u001b[43mkwargs\u001b[49m\u001b[43m)\u001b[49m\n",
      "\u001b[36mFile \u001b[39m\u001b[32mc:\\Users\\Public\\anaconda3\\envs\\YOUCEF_OUADJER_ENV\\Lib\\site-packages\\torch\\nn\\modules\\module.py:1750\u001b[39m, in \u001b[36mModule._call_impl\u001b[39m\u001b[34m(self, *args, **kwargs)\u001b[39m\n\u001b[32m   1745\u001b[39m \u001b[38;5;66;03m# If we don't have any hooks, we want to skip the rest of the logic in\u001b[39;00m\n\u001b[32m   1746\u001b[39m \u001b[38;5;66;03m# this function, and just call forward.\u001b[39;00m\n\u001b[32m   1747\u001b[39m \u001b[38;5;28;01mif\u001b[39;00m \u001b[38;5;129;01mnot\u001b[39;00m (\u001b[38;5;28mself\u001b[39m._backward_hooks \u001b[38;5;129;01mor\u001b[39;00m \u001b[38;5;28mself\u001b[39m._backward_pre_hooks \u001b[38;5;129;01mor\u001b[39;00m \u001b[38;5;28mself\u001b[39m._forward_hooks \u001b[38;5;129;01mor\u001b[39;00m \u001b[38;5;28mself\u001b[39m._forward_pre_hooks\n\u001b[32m   1748\u001b[39m         \u001b[38;5;129;01mor\u001b[39;00m _global_backward_pre_hooks \u001b[38;5;129;01mor\u001b[39;00m _global_backward_hooks\n\u001b[32m   1749\u001b[39m         \u001b[38;5;129;01mor\u001b[39;00m _global_forward_hooks \u001b[38;5;129;01mor\u001b[39;00m _global_forward_pre_hooks):\n\u001b[32m-> \u001b[39m\u001b[32m1750\u001b[39m     \u001b[38;5;28;01mreturn\u001b[39;00m \u001b[43mforward_call\u001b[49m\u001b[43m(\u001b[49m\u001b[43m*\u001b[49m\u001b[43margs\u001b[49m\u001b[43m,\u001b[49m\u001b[43m \u001b[49m\u001b[43m*\u001b[49m\u001b[43m*\u001b[49m\u001b[43mkwargs\u001b[49m\u001b[43m)\u001b[49m\n\u001b[32m   1752\u001b[39m result = \u001b[38;5;28;01mNone\u001b[39;00m\n\u001b[32m   1753\u001b[39m called_always_called_hooks = \u001b[38;5;28mset\u001b[39m()\n",
      "\u001b[36mFile \u001b[39m\u001b[32me:\\youcef ouadjer\\kd_framework\\kd_models.py:28\u001b[39m, in \u001b[36mTeacherNet.forward\u001b[39m\u001b[34m(self, x)\u001b[39m\n\u001b[32m     25\u001b[39m feat = x  \u001b[38;5;66;03m# intermediate feature\u001b[39;00m\n\u001b[32m     27\u001b[39m x = \u001b[38;5;28mself\u001b[39m.base.mixed_6a(x)\n\u001b[32m---> \u001b[39m\u001b[32m28\u001b[39m x = \u001b[38;5;28;43mself\u001b[39;49m\u001b[43m.\u001b[49m\u001b[43mbase\u001b[49m\u001b[43m.\u001b[49m\u001b[43mrepeat_2\u001b[49m\u001b[43m(\u001b[49m\u001b[43mx\u001b[49m\u001b[43m)\u001b[49m\n\u001b[32m     29\u001b[39m x = \u001b[38;5;28mself\u001b[39m.base.mixed_7a(x)\n\u001b[32m     30\u001b[39m x = \u001b[38;5;28mself\u001b[39m.base.repeat_3(x)\n",
      "\u001b[36mFile \u001b[39m\u001b[32mc:\\Users\\Public\\anaconda3\\envs\\YOUCEF_OUADJER_ENV\\Lib\\site-packages\\torch\\nn\\modules\\module.py:1739\u001b[39m, in \u001b[36mModule._wrapped_call_impl\u001b[39m\u001b[34m(self, *args, **kwargs)\u001b[39m\n\u001b[32m   1737\u001b[39m     \u001b[38;5;28;01mreturn\u001b[39;00m \u001b[38;5;28mself\u001b[39m._compiled_call_impl(*args, **kwargs)  \u001b[38;5;66;03m# type: ignore[misc]\u001b[39;00m\n\u001b[32m   1738\u001b[39m \u001b[38;5;28;01melse\u001b[39;00m:\n\u001b[32m-> \u001b[39m\u001b[32m1739\u001b[39m     \u001b[38;5;28;01mreturn\u001b[39;00m \u001b[38;5;28;43mself\u001b[39;49m\u001b[43m.\u001b[49m\u001b[43m_call_impl\u001b[49m\u001b[43m(\u001b[49m\u001b[43m*\u001b[49m\u001b[43margs\u001b[49m\u001b[43m,\u001b[49m\u001b[43m \u001b[49m\u001b[43m*\u001b[49m\u001b[43m*\u001b[49m\u001b[43mkwargs\u001b[49m\u001b[43m)\u001b[49m\n",
      "\u001b[36mFile \u001b[39m\u001b[32mc:\\Users\\Public\\anaconda3\\envs\\YOUCEF_OUADJER_ENV\\Lib\\site-packages\\torch\\nn\\modules\\module.py:1750\u001b[39m, in \u001b[36mModule._call_impl\u001b[39m\u001b[34m(self, *args, **kwargs)\u001b[39m\n\u001b[32m   1745\u001b[39m \u001b[38;5;66;03m# If we don't have any hooks, we want to skip the rest of the logic in\u001b[39;00m\n\u001b[32m   1746\u001b[39m \u001b[38;5;66;03m# this function, and just call forward.\u001b[39;00m\n\u001b[32m   1747\u001b[39m \u001b[38;5;28;01mif\u001b[39;00m \u001b[38;5;129;01mnot\u001b[39;00m (\u001b[38;5;28mself\u001b[39m._backward_hooks \u001b[38;5;129;01mor\u001b[39;00m \u001b[38;5;28mself\u001b[39m._backward_pre_hooks \u001b[38;5;129;01mor\u001b[39;00m \u001b[38;5;28mself\u001b[39m._forward_hooks \u001b[38;5;129;01mor\u001b[39;00m \u001b[38;5;28mself\u001b[39m._forward_pre_hooks\n\u001b[32m   1748\u001b[39m         \u001b[38;5;129;01mor\u001b[39;00m _global_backward_pre_hooks \u001b[38;5;129;01mor\u001b[39;00m _global_backward_hooks\n\u001b[32m   1749\u001b[39m         \u001b[38;5;129;01mor\u001b[39;00m _global_forward_hooks \u001b[38;5;129;01mor\u001b[39;00m _global_forward_pre_hooks):\n\u001b[32m-> \u001b[39m\u001b[32m1750\u001b[39m     \u001b[38;5;28;01mreturn\u001b[39;00m \u001b[43mforward_call\u001b[49m\u001b[43m(\u001b[49m\u001b[43m*\u001b[49m\u001b[43margs\u001b[49m\u001b[43m,\u001b[49m\u001b[43m \u001b[49m\u001b[43m*\u001b[49m\u001b[43m*\u001b[49m\u001b[43mkwargs\u001b[49m\u001b[43m)\u001b[49m\n\u001b[32m   1752\u001b[39m result = \u001b[38;5;28;01mNone\u001b[39;00m\n\u001b[32m   1753\u001b[39m called_always_called_hooks = \u001b[38;5;28mset\u001b[39m()\n",
      "\u001b[36mFile \u001b[39m\u001b[32mc:\\Users\\Public\\anaconda3\\envs\\YOUCEF_OUADJER_ENV\\Lib\\site-packages\\torch\\nn\\modules\\container.py:250\u001b[39m, in \u001b[36mSequential.forward\u001b[39m\u001b[34m(self, input)\u001b[39m\n\u001b[32m    248\u001b[39m \u001b[38;5;28;01mdef\u001b[39;00m\u001b[38;5;250m \u001b[39m\u001b[34mforward\u001b[39m(\u001b[38;5;28mself\u001b[39m, \u001b[38;5;28minput\u001b[39m):\n\u001b[32m    249\u001b[39m     \u001b[38;5;28;01mfor\u001b[39;00m module \u001b[38;5;129;01min\u001b[39;00m \u001b[38;5;28mself\u001b[39m:\n\u001b[32m--> \u001b[39m\u001b[32m250\u001b[39m         \u001b[38;5;28minput\u001b[39m = \u001b[43mmodule\u001b[49m\u001b[43m(\u001b[49m\u001b[38;5;28;43minput\u001b[39;49m\u001b[43m)\u001b[49m\n\u001b[32m    251\u001b[39m     \u001b[38;5;28;01mreturn\u001b[39;00m \u001b[38;5;28minput\u001b[39m\n",
      "\u001b[36mFile \u001b[39m\u001b[32mc:\\Users\\Public\\anaconda3\\envs\\YOUCEF_OUADJER_ENV\\Lib\\site-packages\\torch\\nn\\modules\\module.py:1739\u001b[39m, in \u001b[36mModule._wrapped_call_impl\u001b[39m\u001b[34m(self, *args, **kwargs)\u001b[39m\n\u001b[32m   1737\u001b[39m     \u001b[38;5;28;01mreturn\u001b[39;00m \u001b[38;5;28mself\u001b[39m._compiled_call_impl(*args, **kwargs)  \u001b[38;5;66;03m# type: ignore[misc]\u001b[39;00m\n\u001b[32m   1738\u001b[39m \u001b[38;5;28;01melse\u001b[39;00m:\n\u001b[32m-> \u001b[39m\u001b[32m1739\u001b[39m     \u001b[38;5;28;01mreturn\u001b[39;00m \u001b[38;5;28;43mself\u001b[39;49m\u001b[43m.\u001b[49m\u001b[43m_call_impl\u001b[49m\u001b[43m(\u001b[49m\u001b[43m*\u001b[49m\u001b[43margs\u001b[49m\u001b[43m,\u001b[49m\u001b[43m \u001b[49m\u001b[43m*\u001b[49m\u001b[43m*\u001b[49m\u001b[43mkwargs\u001b[49m\u001b[43m)\u001b[49m\n",
      "\u001b[36mFile \u001b[39m\u001b[32mc:\\Users\\Public\\anaconda3\\envs\\YOUCEF_OUADJER_ENV\\Lib\\site-packages\\torch\\nn\\modules\\module.py:1750\u001b[39m, in \u001b[36mModule._call_impl\u001b[39m\u001b[34m(self, *args, **kwargs)\u001b[39m\n\u001b[32m   1745\u001b[39m \u001b[38;5;66;03m# If we don't have any hooks, we want to skip the rest of the logic in\u001b[39;00m\n\u001b[32m   1746\u001b[39m \u001b[38;5;66;03m# this function, and just call forward.\u001b[39;00m\n\u001b[32m   1747\u001b[39m \u001b[38;5;28;01mif\u001b[39;00m \u001b[38;5;129;01mnot\u001b[39;00m (\u001b[38;5;28mself\u001b[39m._backward_hooks \u001b[38;5;129;01mor\u001b[39;00m \u001b[38;5;28mself\u001b[39m._backward_pre_hooks \u001b[38;5;129;01mor\u001b[39;00m \u001b[38;5;28mself\u001b[39m._forward_hooks \u001b[38;5;129;01mor\u001b[39;00m \u001b[38;5;28mself\u001b[39m._forward_pre_hooks\n\u001b[32m   1748\u001b[39m         \u001b[38;5;129;01mor\u001b[39;00m _global_backward_pre_hooks \u001b[38;5;129;01mor\u001b[39;00m _global_backward_hooks\n\u001b[32m   1749\u001b[39m         \u001b[38;5;129;01mor\u001b[39;00m _global_forward_hooks \u001b[38;5;129;01mor\u001b[39;00m _global_forward_pre_hooks):\n\u001b[32m-> \u001b[39m\u001b[32m1750\u001b[39m     \u001b[38;5;28;01mreturn\u001b[39;00m \u001b[43mforward_call\u001b[49m\u001b[43m(\u001b[49m\u001b[43m*\u001b[49m\u001b[43margs\u001b[49m\u001b[43m,\u001b[49m\u001b[43m \u001b[49m\u001b[43m*\u001b[49m\u001b[43m*\u001b[49m\u001b[43mkwargs\u001b[49m\u001b[43m)\u001b[49m\n\u001b[32m   1752\u001b[39m result = \u001b[38;5;28;01mNone\u001b[39;00m\n\u001b[32m   1753\u001b[39m called_always_called_hooks = \u001b[38;5;28mset\u001b[39m()\n",
      "\u001b[36mFile \u001b[39m\u001b[32me:\\youcef ouadjer\\facenet_pytorch\\models\\inception_resnet_v1.py:94\u001b[39m, in \u001b[36mBlock17.forward\u001b[39m\u001b[34m(self, x)\u001b[39m\n\u001b[32m     92\u001b[39m out = \u001b[38;5;28mself\u001b[39m.conv2d(out)\n\u001b[32m     93\u001b[39m out = out * \u001b[38;5;28mself\u001b[39m.scale + x\n\u001b[32m---> \u001b[39m\u001b[32m94\u001b[39m out = \u001b[38;5;28;43mself\u001b[39;49m\u001b[43m.\u001b[49m\u001b[43mrelu\u001b[49m(out)\n\u001b[32m     95\u001b[39m \u001b[38;5;28;01mreturn\u001b[39;00m out\n",
      "\u001b[36mFile \u001b[39m\u001b[32mc:\\Users\\Public\\anaconda3\\envs\\YOUCEF_OUADJER_ENV\\Lib\\site-packages\\torch\\nn\\modules\\module.py:1915\u001b[39m, in \u001b[36mModule.__getattr__\u001b[39m\u001b[34m(self, name)\u001b[39m\n\u001b[32m   1910\u001b[39m         \u001b[38;5;28mself\u001b[39m._backward_pre_hooks = OrderedDict()\n\u001b[32m   1912\u001b[39m \u001b[38;5;66;03m# It is crucial that the return type is not annotated as `Any`, otherwise type checking\u001b[39;00m\n\u001b[32m   1913\u001b[39m \u001b[38;5;66;03m# on `torch.nn.Module` and all its subclasses is largely disabled as a result. See:\u001b[39;00m\n\u001b[32m   1914\u001b[39m \u001b[38;5;66;03m# https://github.com/pytorch/pytorch/pull/115074\u001b[39;00m\n\u001b[32m-> \u001b[39m\u001b[32m1915\u001b[39m \u001b[38;5;28;01mdef\u001b[39;00m\u001b[38;5;250m \u001b[39m\u001b[34m__getattr__\u001b[39m(\u001b[38;5;28mself\u001b[39m, name: \u001b[38;5;28mstr\u001b[39m) -> Union[Tensor, \u001b[33m\"\u001b[39m\u001b[33mModule\u001b[39m\u001b[33m\"\u001b[39m]:\n\u001b[32m   1916\u001b[39m     \u001b[38;5;28;01mif\u001b[39;00m \u001b[33m\"\u001b[39m\u001b[33m_parameters\u001b[39m\u001b[33m\"\u001b[39m \u001b[38;5;129;01min\u001b[39;00m \u001b[38;5;28mself\u001b[39m.\u001b[34m__dict__\u001b[39m:\n\u001b[32m   1917\u001b[39m         _parameters = \u001b[38;5;28mself\u001b[39m.\u001b[34m__dict__\u001b[39m[\u001b[33m\"\u001b[39m\u001b[33m_parameters\u001b[39m\u001b[33m\"\u001b[39m]\n",
      "\u001b[31mKeyboardInterrupt\u001b[39m: "
     ]
    }
   ],
   "source": [
    "# Training + Evaluation loop\n",
    "optimizer = torch.optim.Adam(student_model.parameters(), lr=0.001)\n",
    "epochs = 500\n",
    "\n",
    "save_dir = \"./checkpoints\"\n",
    "os.makedirs(save_dir, exist_ok=True)\n",
    "\n",
    "best_val_acc = 0  # For tracking the best model\n",
    "\n",
    "for epoch in tqdm(range(epochs)):\n",
    "    # ------------------ Training ------------------\n",
    "    student_model.train()\n",
    "    total_loss, total_correct, total_samples = 0, 0, 0\n",
    "\n",
    "    for img_teacher, img_student, labels in train_loader:\n",
    "        img_teacher = img_teacher.cuda()\n",
    "        img_student = img_student.cuda()\n",
    "        labels = labels.cuda()\n",
    "\n",
    "        with torch.no_grad():\n",
    "            teacher_logits, teacher_feats = teacher_model(img_teacher)\n",
    "\n",
    "        student_logits, student_feats, _ = student_model(img_student)\n",
    "        \n",
    "        # print(f\"Label range: min={labels.min().item()}, max={labels.max().item()}\")\n",
    "        # print(f\"Student logits shape: {student_logits.shape}\")\n",
    "\n",
    "        #print(f\"Teacher logits shape: {teacher_logits.shape}\")\n",
    "        #print(f\"Student labels shape: {labels.shape}\")\n",
    "\n",
    "        loss = utils.distillation_loss(student_logits, teacher_logits, student_feats, teacher_feats, labels)\n",
    "\n",
    "        optimizer.zero_grad()\n",
    "        loss.backward()\n",
    "        optimizer.step()\n",
    "\n",
    "        total_loss += loss.item() * labels.size(0)\n",
    "        total_correct += (student_logits.argmax(1) == labels).sum().item()\n",
    "        total_samples += labels.size(0)\n",
    "\n",
    "    train_acc = 100 * total_correct / total_samples\n",
    "    avg_loss = total_loss / total_samples\n",
    "    print(f\"Epoch {epoch+1}: Train Loss={avg_loss:.4f}, Train Acc={train_acc:.2f}%\")\n",
    "\n",
    "    # ------------------ Evaluation ------------------\n",
    "    student_model.eval()\n",
    "    all_preds = []\n",
    "    all_labels = []\n",
    "    total_val_loss = 0\n",
    "\n",
    "    with torch.no_grad():\n",
    "        for img_teacher, img_student, labels in val_loader:\n",
    "            \n",
    "            img_student = img_student.cuda()\n",
    "            labels = labels.cuda()\n",
    "\n",
    "            student_logits, _, _ = student_model(img_student)\n",
    "            #print(f\"Student labels shape: {labels.shape}\")\n",
    "            preds = student_logits.argmax(1)\n",
    "\n",
    "            # print(f\"Label range: min={labels.min().item()}, max={labels.max().item()}\")\n",
    "            #print(f\"Student logits shape: {student_logits.shape}\")\n",
    "            \n",
    "            #print(f\"Predictions shape: {preds.shape}\")\n",
    "            #print(f\"labels shape: {labels.shape}\")\n",
    "            # print(f\"Predictions range: min={preds.min().item()}, max={preds.max().item()}\")\n",
    "\n",
    "\n",
    "            val_loss = F.cross_entropy(student_logits, labels)\n",
    "            total_val_loss += val_loss.item() * labels.size(0)\n",
    "\n",
    "            all_preds.extend(preds.cpu().numpy())\n",
    "            all_labels.extend(labels.cpu().numpy())\n",
    "\n",
    "    val_loss_avg = total_val_loss / len(val_loader.dataset)\n",
    "    val_acc = accuracy_score(all_labels, all_preds)\n",
    "    print(f\"Val Loss={val_loss_avg:.4f}, Val Acc={val_acc * 100:.2f}%\\n\")\n",
    "\n",
    "    # Save model after every epoch\n",
    "    torch.save(student_model.state_dict(), os.path.join(save_dir, f\"student_epoch_{epoch+1}.pth\"))\n",
    "\n",
    "    # Or, save only the best model\n",
    "    if val_acc > best_val_acc:\n",
    "        best_val_acc = val_acc\n",
    "        torch.save(student_model.state_dict(), os.path.join(save_dir, \"best_student_model.pth\"))\n",
    "        print(f\"Best model saved at epoch {epoch+1} with Val Acc={val_acc * 100:.2f}%\")\n"
   ]
  },
  {
   "cell_type": "code",
   "execution_count": null,
   "id": "3edfd866",
   "metadata": {},
   "outputs": [],
   "source": []
  }
 ],
 "metadata": {
  "kernelspec": {
   "display_name": "YOUCEF_OUADJER_ENV",
   "language": "python",
   "name": "python3"
  },
  "language_info": {
   "codemirror_mode": {
    "name": "ipython",
    "version": 3
   },
   "file_extension": ".py",
   "mimetype": "text/x-python",
   "name": "python",
   "nbconvert_exporter": "python",
   "pygments_lexer": "ipython3",
   "version": "3.13.2"
  }
 },
 "nbformat": 4,
 "nbformat_minor": 5
}
